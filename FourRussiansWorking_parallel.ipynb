{
 "cells": [
  {
   "cell_type": "code",
   "execution_count": 1,
   "metadata": {},
   "outputs": [],
   "source": [
    "import numpy as np\n",
    "import time"
   ]
  },
  {
   "cell_type": "markdown",
   "metadata": {},
   "source": [
    "### Conventional DP Approach "
   ]
  },
  {
   "cell_type": "code",
   "execution_count": 4,
   "metadata": {},
   "outputs": [],
   "source": [
    "UP = (-1,0)\n",
    "LEFT = (0, -1)\n",
    "TOPLEFT = (-1, -1)\n",
    "ORIGIN = (0, 0)\n",
    "\n",
    "def traceback_global(v, w, pointers):\n",
    "    i,j = len(v), len(w)\n",
    "    new_v = []\n",
    "    new_w = []\n",
    "    while True:\n",
    "        di, dj = pointers[i][j]\n",
    "        if (di,dj) == LEFT:\n",
    "            new_v.append('-')\n",
    "            new_w.append(w[j-1])\n",
    "        elif (di,dj) == UP:\n",
    "            new_v.append(v[i-1])\n",
    "            new_w.append('-')\n",
    "        elif (di,dj) == TOPLEFT:\n",
    "            new_v.append(v[i-1])\n",
    "            new_w.append(w[j-1])\n",
    "        i, j = i + di, j + dj\n",
    "        if (i <= 0 and j <= 0):\n",
    "            break\n",
    "    return ''.join(new_v[::-1])+'\\n'+''.join(new_w[::-1])\n",
    "\n",
    "\n",
    "\n",
    "def global_align(v, w, delta):\n",
    "    \"\"\"\n",
    "    Returns the score of the maximum scoring alignment of the strings v and w, as well as the actual alignment as\n",
    "    computed by traceback_global.\n",
    "\n",
    "    :param: v\n",
    "    :param: w\n",
    "    :param: delta\n",
    "    \"\"\"\n",
    "    M = [[0 for j in range(len(w)+1)] for i in range(len(v)+1)]\n",
    "    pointers = [[ORIGIN for j in range(len(w)+1)] for i in range(len(v)+1)]\n",
    "    score, alignment = None, None\n",
    "    for i in range(len(v)+1):\n",
    "      for j in range(len(w)+1):\n",
    "        if i == 0 and j == 0:\n",
    "          continue\n",
    "        elif i == 0:\n",
    "          M[i][j] = M[i][j - 1] + delta[\"-\"][w[j-1]]\n",
    "          pointers[i][j] = LEFT\n",
    "        elif j == 0:\n",
    "          M[i][j] = M[i - 1][j] + delta[v[i-1]][\"-\"]\n",
    "          pointers[i][j] = UP\n",
    "        else:\n",
    "          min_num = min(M[i-1][j] + delta[v[i-1]][\"-\"], M[i][j-1] + delta[\"-\"][w[j-1]], M[i-1][j-1] + delta[v[i-1]][w[j-1]])\n",
    "          if min_num == M[i-1][j-1] + delta[v[i-1]][w[j-1]]:\n",
    "            M[i][j] = min_num\n",
    "            pointers[i][j] = TOPLEFT\n",
    "          elif min_num == M[i][j-1] + delta[\"-\"][w[j-1]]:\n",
    "            M[i][j] = min_num\n",
    "            pointers[i][j] = LEFT\n",
    "          elif min_num == M[i-1][j] + delta[v[i-1]][\"-\"]:\n",
    "            M[i][j] = min_num\n",
    "            pointers[i][j] = UP\n",
    "    # for row in M:\n",
    "    #   print(row)\n",
    "    alignment = traceback_global(v,w, pointers)\n",
    "    return M[-1][-1], alignment\n",
    "\n",
    "\n",
    "keys = ['A', 'C', 'T', 'G', '-']\n",
    "delta = {}\n",
    "for i in range(len(keys)):\n",
    "    delta[keys[i]] = {k : v for (k,v) in zip(keys, [0 if keys[i] == keys[j]  else 1 for j in range(len(keys))])}\n",
    "\n",
    "# score, alignment = global_align(\"TATGC\", \"AGTACGCA\", delta)\n",
    "# score, alignment = global_align(\"CACACC\", \"ACCACCCAA\", delta)\n",
    "score, alignment = global_align(\"CACCAA\", \"ACCACC\", delta)\n",
    "# # score, alignment = global_align(\"CAC\", \"ACC\", delta) #ROW, COL\n",
    "# print(score, alignment, sep='\\n')\n",
    "# print(\"Score: \", score)"
   ]
  },
  {
   "cell_type": "markdown",
   "metadata": {},
   "source": [
    "### Helper Functions for FOUR RUSSIANS"
   ]
  },
  {
   "cell_type": "code",
   "execution_count": 5,
   "metadata": {},
   "outputs": [],
   "source": [
    "def getAllStrings(t, alphabets):\n",
    "    if t == 0:\n",
    "        return []\n",
    "    if t == 1:\n",
    "        return alphabets\n",
    "    tmp = getAllStrings(t-1, alphabets)\n",
    "    res = []\n",
    "    for i in alphabets:\n",
    "        for j in tmp:\n",
    "            res.append(i+j)\n",
    "    return res\n",
    "\n",
    "# create random strngs of length x from chracters in alphabets\n",
    "def createRandomString(x, alphabets):\n",
    "    res = ''\n",
    "    for i in range(x):\n",
    "        res += alphabets[np.random.randint(0, len(alphabets))]\n",
    "    return res\n",
    "\n",
    "# get all possible vectors of length t consisting of 1, 0, -1\n",
    "def getAllVectors(t, lst):\n",
    "    if t == 0:\n",
    "        return [[]]\n",
    "    tmp = getAllVectors(t-1, lst)\n",
    "    res = []\n",
    "    for i in lst:\n",
    "        for j in tmp:\n",
    "            res.append([i]+j)\n",
    "    return res\n",
    "\n",
    "def makeString(lst):\n",
    "    res = ''\n",
    "    for i in lst:\n",
    "        res += str(i)\n",
    "    return res"
   ]
  },
  {
   "cell_type": "code",
   "execution_count": 6,
   "metadata": {},
   "outputs": [],
   "source": [
    "def getBlockRowCol(u, v, row1, col1, A=0):\n",
    "    block = np.zeros((len(v)+1, len(u)+1))\n",
    "    block[0, 0] = A\n",
    "    block[0, 1:] = np.cumsum(row1)\n",
    "    block[1:, 0] = np.cumsum(col1)\n",
    "    for i in range(1, len(v) + 1):\n",
    "        for j in range(1, len(u) + 1):\n",
    "            if v[i-1] == u[j-1]:\n",
    "                block[i][j] = block[i-1][j-1]\n",
    "            else:\n",
    "                block[i][j] = min(block[i-1][j-1], block[i-1][j], block[i][j-1]) + 1\n",
    "    \n",
    "    lastRow = np.diff(block[-1, :])\n",
    "    lastCol = np.diff(block[:, -1])\n",
    "\n",
    "    del block\n",
    "    return lastRow, lastCol\n",
    "\n",
    "def finalBlocksGetter(alphabets, t):\n",
    "    # get all possible strings of length t\n",
    "    allstrs = getAllStrings(t, alphabets)\n",
    "    allnums = getAllVectors(t, [1, 0, -1])\n",
    "    allnumsstr = [makeString(i) for i in allnums]\n",
    "    lenallnums = len(allnums)\n",
    "\n",
    "    allBlocks = {i: {j: None for j in allstrs} for i in allstrs}\n",
    "    for i in allstrs:\n",
    "        for j in allstrs:\n",
    "            allBlocks[i][j] = {r2: {r: None for r in allnumsstr} for r2 in allnumsstr}\n",
    "\n",
    "    for i in allstrs:\n",
    "        for j in allstrs:\n",
    "            for indexRow in range(lenallnums):\n",
    "                r = allnums[indexRow]\n",
    "                r_str = allnumsstr[indexRow]\n",
    "                for indexCol in range(lenallnums):\n",
    "                    c = allnums[indexCol]\n",
    "                    c_str = allnumsstr[indexCol]\n",
    "                    allBlocks[i][j][r_str][c_str] = getBlockRowCol(i, j, r, c)\n",
    "\n",
    "    return allBlocks"
   ]
  },
  {
   "cell_type": "markdown",
   "metadata": {},
   "source": [
    "## Four Russians Implementation"
   ]
  },
  {
   "cell_type": "code",
   "execution_count": 7,
   "metadata": {},
   "outputs": [],
   "source": [
    "def FR(u, v, t, precomputedBlocks):\n",
    "    u_pad = u\n",
    "    v_pad = v\n",
    "    block = np.zeros((len(v_pad)+1, len(u_pad)+1))\n",
    "    block[0, :] = np.arange(len(u_pad) + 1)\n",
    "    block[:, 0] = np.arange(len(v_pad) + 1)\n",
    "    block[0, 0] = 0\n",
    "    block_size = t\n",
    "    \n",
    "    for i in range(0, len(v_pad), block_size):\n",
    "        for j in range(0, len(u_pad), block_size):\n",
    "            row1 = np.diff(block[i, j:j+block_size+1])\n",
    "            col_tmp = block[i:i+block_size+1, j].copy()\n",
    "            col1 = np.diff(col_tmp)\n",
    "            row_diff = np.int32(row1)\n",
    "            col_diff = np.int32(col1)\n",
    "            row_diff_str = makeString(row_diff)\n",
    "            col_diff_str = makeString(col_diff)\n",
    "            row_substring = u[j:j+block_size]\n",
    "            col_substring = v[i:i+block_size]  \n",
    "            \n",
    "            r_s, t_s = precomputedBlocks[row_substring][col_substring][row_diff_str][col_diff_str]\n",
    "            block[i+block_size, j+1:j+block_size+1] = r_s\n",
    "            block[i+block_size, j+1:j+block_size+1] = np.cumsum(block[i+block_size, j:j+block_size+1])[1:]\n",
    "            block[i+1:i+block_size+1, j+block_size] = t_s\n",
    "            block[i+1:i+block_size+1, j+block_size] = np.cumsum(block[i:i+block_size+1, j+block_size])[1:]\n",
    "    return block, block[-1, -1]"
   ]
  },
  {
   "cell_type": "code",
   "execution_count": 8,
   "metadata": {},
   "outputs": [],
   "source": [
    "allBlocks = finalBlocksGetter(['A', 'C'], 3)"
   ]
  },
  {
   "cell_type": "code",
   "execution_count": 9,
   "metadata": {},
   "outputs": [
    {
     "name": "stdout",
     "output_type": "stream",
     "text": [
      "Input ACC CAC 111 111\n",
      "Output [-1. -1.  1.] [-1.  0.  0.]\n",
      "Input ACC CAC 111 -100\n",
      "Output [ 1. -1.  1.] [-1. -1. -1.]\n",
      "Input ACC CAA -1-10 111\n",
      "Output [-1. -1. -1.] [0. 1. 1.]\n",
      "Input ACC CAA 1-1-1 011\n",
      "Output [-1.  0.  1.] [1. 1. 1.]\n",
      "6.0 6.0 0.0 1.0\n",
      "SCORES 6.0 5.0\n",
      "FINISHED\n",
      "[[ 0.  1.  1.  1.  1.  1.  1.]\n",
      " [ 1.  0.  0. -1.  0.  0. -1.]\n",
      " [ 1.  0.  0.  0.  0.  0. -1.]\n",
      " [ 1. -1. -1.  0.  1. -1. -1.]\n",
      " [ 1.  0.  0.  0.  0.  0.  1.]\n",
      " [ 1.  0.  0.  1.  0.  0.  1.]\n",
      " [ 1. -1. -1.  1. -1.  0.  1.]]\n",
      "1.0\n"
     ]
    }
   ],
   "source": [
    "def FR2(u, v, t, precomputedBlocks):\n",
    "    u_pad = u\n",
    "    v_pad = v\n",
    "    block = np.zeros((len(v_pad)+1, len(u_pad)+1))\n",
    "    block[0, :] = np.ones(len(u_pad) + 1)\n",
    "    block[:, 0] = np.ones(len(v_pad) + 1)\n",
    "    block[0, 0] = 0\n",
    "    block_size = t\n",
    "    \n",
    "    for i in range(0, len(v_pad), block_size):\n",
    "        for j in range(0, len(u_pad), block_size):\n",
    "            row1 = block[i, j+1:j+block_size+1]\n",
    "            col1 = block[i+1:i+block_size+1, j].copy()\n",
    "            \n",
    "            row_diff = np.int32(row1)\n",
    "            col_diff = np.int32(col1)\n",
    "            row_diff_str = makeString(row_diff)\n",
    "            col_diff_str = makeString(col_diff)\n",
    "            row_substring = u[j:j+block_size]\n",
    "            col_substring = v[i:i+block_size]  \n",
    "            print(\"Input\", row_substring, col_substring, row_diff_str, col_diff_str)\n",
    "            r_s, t_s = precomputedBlocks[row_substring][col_substring][row_diff_str][col_diff_str]\n",
    "            print(\"Output\", r_s, t_s)\n",
    "            block[i+block_size, j+1:j+block_size+1] = r_s\n",
    "            # block[i+block_size, j+1:j+block_size+1] = np.cumsum(block[i+block_size, j:j+block_size+1])[1:]\n",
    "            block[i+1:i+block_size+1, j+block_size] = t_s\n",
    "            # block[i+1:i+block_size+1, j+block_size] = np.cumsum(block[i:i+block_size+1, j+block_size])[1:]\n",
    "\n",
    "    first_col_sum = np.sum(block[:, 0])\n",
    "    first_row_sum = np.sum(block[0, :])\n",
    "    last_row_sum = np.sum(block[-1, :])\n",
    "    last_col_sum = np.sum(block[:, -1])\n",
    "    print(first_row_sum, first_col_sum, last_row_sum, last_col_sum)\n",
    "    sc1 = first_row_sum + last_col_sum - block[0, -1]\n",
    "    sc2 = first_col_sum + last_row_sum - block[-1, 0]\n",
    "    print(\"SCORES\", sc1, sc2)\n",
    "    return block, block[-1, -1]\n",
    "\n",
    "GroundTruthBlock, sc = FR2(\"ACCACC\", \"CACCAA\", 3, allBlocks)\n",
    "# GroundTruthBlock = FR(\"ACCACCCAA\", \"CACACC\", 3, allBlocks)\n",
    "print(\"FINISHED\")\n",
    "print(GroundTruthBlock)\n",
    "print(sc)"
   ]
  },
  {
   "cell_type": "code",
   "execution_count": 10,
   "metadata": {},
   "outputs": [],
   "source": [
    "import numpy as np\n",
    "import concurrent.futures\n",
    "import time\n",
    "\n",
    "\n",
    "def process_block(i, j, block, block_size, precomputedBlocks, u, v):\n",
    "    row1 = np.diff(block[i, j:j + block_size + 1])\n",
    "    col_tmp = block[i:i + block_size + 1, j].copy()\n",
    "    col1 = np.diff(col_tmp)\n",
    "    row_diff = np.int32(row1)\n",
    "    col_diff = np.int32(col1)\n",
    "    row_diff_str = makeString(row_diff)\n",
    "    col_diff_str = makeString(col_diff)\n",
    "    row_substring = u[j:j + block_size]\n",
    "    col_substring = v[i:i + block_size]\n",
    "    r_s, t_s = precomputedBlocks[row_substring][col_substring][row_diff_str][col_diff_str]\n",
    "    block[i + block_size, j + 1:j + block_size + 1] = r_s\n",
    "    block[i + block_size, j + 1:j + block_size + 1] = np.cumsum(block[i + block_size, j:j + block_size + 1])[1:]\n",
    "    block[i + 1:i + block_size + 1, j + block_size] = t_s\n",
    "    block[i + 1:i + block_size + 1, j + block_size] = np.cumsum(block[i:i + block_size + 1, j + block_size])[1:]\n",
    "        \n",
    "def FR_Parallel(u, v, t, precomputedBlocks, delay=0.0001):\n",
    "    u_pad = u\n",
    "    v_pad = v\n",
    "    block = np.zeros((len(v_pad) + 1, len(u_pad) + 1))\n",
    "    block[0, :] = np.arange(len(u_pad) + 1)\n",
    "    block[:, 0] = np.arange(len(v_pad) + 1)\n",
    "    block[0, 0] = 0\n",
    "    block_size = t\n",
    "\n",
    "    def thread_worker(i, u_pad, v_pad):\n",
    "        for j in range(0, len(u_pad), block_size):\n",
    "            process_block(i, j, block, block_size, precomputedBlocks, u_pad, v_pad)\n",
    "\n",
    "    with concurrent.futures.ThreadPoolExecutor() as outer_executor:\n",
    "        for i in range(0, len(v_pad), block_size):\n",
    "            outer_executor.submit(thread_worker, i, u_pad, v_pad)\n",
    "            time.sleep(delay)  # Add a small delay before starting the next outer thread because we need a block already done to be able to start the next one\n",
    "\n",
    "    return block, block[-1, -1]\n",
    "\n",
    "# GroundTruthBlock, sc1 = FR_Parallel(\"ACCACC\", \"CACCAA\", 3, allBlocks)\n",
    "# # GroundTruthBlock = FR(\"ACCACCCAA\", \"CACACC\", 3, allBlocks)\n",
    "# print(\"FINISHED\")\n",
    "# print(GroundTruthBlock)\n",
    "# print(sc1)"
   ]
  },
  {
   "cell_type": "code",
   "execution_count": 9,
   "metadata": {},
   "outputs": [
    {
     "name": "stdout",
     "output_type": "stream",
     "text": [
      "Block size 3\n",
      "ALL BLOCKS - PRECOMPUTE TIME 2.1911110877990723\n"
     ]
    }
   ],
   "source": [
    "t = 3\n",
    "alphabets = ['A', 'C']\n",
    "start_time = time.time()\n",
    "allBlocks = finalBlocksGetter(alphabets, t)\n",
    "end_time = time.time()\n",
    "time_taken_all_blocks = end_time - start_time\n",
    "print(\"Block size\", t)\n",
    "print(\"ALL BLOCKS - PRECOMPUTE TIME\", time_taken_all_blocks)"
   ]
  },
  {
   "cell_type": "code",
   "execution_count": 10,
   "metadata": {},
   "outputs": [
    {
     "name": "stdout",
     "output_type": "stream",
     "text": [
      "Length of strings:  1500\n",
      "STR1: CAACCCAACCACAAAAAACCCACAACACCCAACCCCCACAACAAAACAACAAAACACAAAACCACCACAAACCAACAAACAAACCCCAAACCCCCACACACAACCAACCCAACCCCACACCCCACCACAAACAACAAAAACCACCACCCCCAAACAAACCACACAACAAACACAAACCACCAAAACACCCACCAAAAACCACACCAAAAAAAACAAAACCCACAAAACACACAACAAACCCACCACACACCCCCCCCCAACCACACCCCCACAAACCCACCCCAAACAACCAACCCAAAACAACAACCCACACACCCACCCAAAAACCACACCCACAACACCAACCACAACCAACCCAACCAACAACCCAACCCAAACAAAACCAACCCAAACACCACACCCAAACCACCACAAACAACCCACCCAACAACACAACAAAAAAAAACCCCCAACCCCCCAAACCAAAAAACACACACCCCCCAAAACCAAACACCCCCCCACCCACACCAAACCAACACAACCACCCAAACAAACACCAACCAACACACAAACAACCCAACCAACCAACCAAACAAAAACAACAAAAACCACCACCACACACACCCACCAAAAACAAAAAAACACCACCCAACAACCACAACAAACCACCCACCCACCCAAAACACCAAACCAACCCCACCCACACAACAACCCCCAACACAAACCCACCCCCAACCAAACCCCACACCCCCACAACACAACAACACACACAACCAAACCCCACCAAAAAACACACCCAAACCCACCCACACCCCCAAACAACCCACAACCAAAACCCCACCCCCCCCACAAAAACAACAAACACAAAACAACAACAACCCCACAAACCAAACAACAACAAACCACCACCAACAAACCAACACCCAAAACCACACAAAACAACCCCCAACACCACCCCACCCCCACCACACACACACACCAACCCAACAACCAACCACCCAAAACCCCCCAAACCACCCCCCACCCCACACAACCACAAACCCCCACACAACACACACCACACCAACCACCAAACCAAACCACCCACACAAAAAACACAACAACCACCCCCCAACAAACACAACACCCCCCAAAACCACCACAACACACACCCAAACAAAACCAACACACAACACACCCACACCCACCACACAAAACACCCCACCCCCACACCCCACAAACCCAAACCAACCCACACACACAAACACCCCAAAACCCCCACACACAAACCAACAACAAACACCAACAAACACAACAACAAAAAAAAAACAAAACAAAACCACCAACACAACACACCAACCCCCAAAACCAAACACAACCACCCCAACACAAAACCCCACAACCCACACCAAAACCAACACCAAAAAAACCAAAAACCCAAAAAAACCACACAAAAAAAAACACCAAAAAAAAAACCCACACCACCAAACACCCAAAACCCCAAACCCCCACCACAACAACCCCCCACCCCCCCCCCAAAAA\n",
      "STR2: CACCACAACAACCCCCCCAACCAAACACCCCAACACAACACCAAAACAACAACCAAACAAACACAACAAAACACCCACCACACACCACCAAAAACCCACACACACCACCAAACAAAACACAACCACCCCCCCCACACCCACCCAAACCAAACCACCAAAAACACCAAACAACCACACAAACCACCAACCCACACCCCACCAAACCCCCACCACCCAACAAAACCACAACACACAAAACCCAAAAACAAACCCCCCAAAAAAAAAAAAACCCACACCCCCCCCCAACCACCCCACCCAACCAAACAAAACACCCAAACCCCACAAACCACCACCCACACCACCCACCACCAAAACCACACACCACAAAAAACCAAAACCAAACACCAAAACAACCCCCAAACAACACACAACCCCCACACACACCCCACCCACACCAACCACCCCAAAACAACCCCCCCCAAAACCCCCACCACAAAACAAAAACCCCAACACACCCACCCAACCCCCCCAACCCAAAACACAAACCCACACCACAACACAACACCAAACCACCCAACAACACCACAAACAACAACAAACCACACAAACCCCACCCCAAAACCCCAAACACCCACCACACCCCCACCAAACAACACACCCAACACACCCACAAACAACAACCAAAACCCACACCCAAAAAAAAACAACCCAACCAAAACACAAACAAACAACCACACCAAACACACCCACCCAAACCAACACCCAAAACACAAACCCACCAAACAACAACCACAACAACACCCACCCACCACCAAAAACAAACAAACAAAACCACCCACACCCAAAAAACCCACAACCAAAACCCCCCCACACAACCCAAACACAAACCACCCAACAAACCACCACACCCCCCAACCAAAACACACCAAAACAAAAAACCCACCACAAACAAAACCCAAAACACCCCCCCAAAACCCCAAACACAAACCCCCACCAACACCCAAAACACACCAACCAAACAACCCCCACCCACAACCCCACCCACACAAACCACAACACCCCACAACACCCCCAACCAACACCAAACCCCAACCAAACACACACACCAACACCCCCAAAACCCACCCAAACCCCACACACACACAAAAACCCAACAAACACCCCCCCAACAAAACCCACCCCCCAACCAACAAAAACCACCCACAACAACAACCCCCCACCCAAACACAAAACAACCCCCAAAACCACACCACCACAACCCAAACACCCCAAAAAACACCCAACACAAACACAAACCCCCCACACAAAACAAAAAACAAACAAACCCCACACCAAACCACCCCAACAAAACCACAAACAACCCCCCCAACCCCCCCCACAACACACCACACACCCCAAAAACCACCAACAACCCACAACCACCCCCAAAACAAAAAAACACAACACACAACAACACCACAACAACAAAACCAACAACACCACCACCCAACACCAAACACCAAAAAACAACCAAAACCAACC\n",
      "DP EDIT SCORE: 435    FR SCORE: 435.0    PARALLEL FR SCORE: 0.0\n",
      "DP EDIT TIME: 3.962775945663452    FR TIME: 6.27707314491272    PARALLEL FR TIME: 7.344801187515259\n"
     ]
    }
   ],
   "source": [
    "z = t*500\n",
    "print(\"Length of strings: \", z)\n",
    "str1 = createRandomString(z, alphabets)\n",
    "str2 = createRandomString(z, alphabets)\n",
    "\n",
    "start_time = time.time()\n",
    "score1, alignment = global_align(str2, str1, delta)\n",
    "end_time = time.time()\n",
    "time_taken_DP_Edit = end_time - start_time\n",
    "\n",
    "\n",
    "start_time = time.time()\n",
    "GroundTruthBlock, score2 = FR(str1, str2, t, allBlocks)\n",
    "end_time = time.time()\n",
    "time_taken_FR = end_time - start_time\n",
    "\n",
    "start_time = time.time()\n",
    "GroundTruthBlock, score3 = FR_Parallel(str1, str2, t, allBlocks, delay=0.005)\n",
    "end_time = time.time()\n",
    "time_taken_FR_Parallel = end_time - start_time\n",
    "\n",
    "# print(\"STR1\", str1)\n",
    "# print(\"STR2\", str2)\n",
    "# print(\"SCORE: \", score1, score2, score3)\n",
    "# print(\"TIME: \", time_taken_DP_Edit, time_taken_FR, time_taken_FR_Parallel)\n",
    "\n",
    "print(\"STR1:\", str1)\n",
    "print(\"STR2:\", str2)\n",
    "print(\"DP EDIT SCORE:\", score1, \"   FR SCORE:\", score2, \"   PARALLEL FR SCORE:\", score3)\n",
    "print(\"DP EDIT TIME:\", time_taken_DP_Edit, \"   FR TIME:\", time_taken_FR, \"   PARALLEL FR TIME:\", time_taken_FR_Parallel)"
   ]
  },
  {
   "cell_type": "markdown",
   "metadata": {},
   "source": [
    "### Testing for string length 24 from the following code block (t=3), alphabets A, C, G,T"
   ]
  },
  {
   "cell_type": "code",
   "execution_count": 26,
   "metadata": {},
   "outputs": [
    {
     "name": "stdout",
     "output_type": "stream",
     "text": [
      "Block size 3\n",
      "ALL BLOCKS - PRECOMPUTE TIME 76.00015187263489 seconds.\n"
     ]
    }
   ],
   "source": [
    "t = 3\n",
    "alphabets = ['A', 'C', 'T', 'G']\n",
    "start_time = time.time()\n",
    "allBlocks = finalBlocksGetter(alphabets, t)\n",
    "end_time = time.time()\n",
    "time_taken_all_blocks = end_time - start_time\n",
    "print(\"Block size\", t)\n",
    "print(\"ALL BLOCKS - PRECOMPUTE TIME\", time_taken_all_blocks, \"seconds.\")"
   ]
  },
  {
   "cell_type": "code",
   "execution_count": 27,
   "metadata": {},
   "outputs": [
    {
     "name": "stdout",
     "output_type": "stream",
     "text": [
      "Length of strings:  24\n",
      "STR1: CTCGAAAACGTTATGAGGCTACTG\n",
      "STR2: ATGGCGGCAATCTCTCAATCAAAC\n",
      "DP EDIT SCORE: 16    FR SCORE: 16.0    PARALLEL FR SCORE: 16.0\n",
      "DP EDIT TIME: 0.0009996891021728516    FR TIME: 0.008780241012573242    PARALLEL FR TIME: 0.4302492141723633\n"
     ]
    }
   ],
   "source": [
    "z = 24\n",
    "print(\"Length of strings: \", z)\n",
    "str1 = createRandomString(z, alphabets)\n",
    "str2 = createRandomString(z, alphabets)\n",
    "\n",
    "start_time = time.time()\n",
    "score1, alignment = global_align(str2, str1, delta)\n",
    "end_time = time.time()\n",
    "time_taken_DP_Edit = end_time - start_time\n",
    "\n",
    "\n",
    "start_time = time.time()\n",
    "GroundTruthBlock, score2 = FR(str1, str2, t, allBlocks)\n",
    "end_time = time.time()\n",
    "time_taken_FR = end_time - start_time\n",
    "\n",
    "start_time = time.time()\n",
    "GroundTruthBlock, score3 = FR_Parallel(str1, str2, t, allBlocks, delay=0.05)\n",
    "end_time = time.time()\n",
    "time_taken_FR_Parallel = end_time - start_time\n",
    "\n",
    "# print(\"STR1\", str1)\n",
    "# print(\"STR2\", str2)\n",
    "# print(\"SCORE: \", score1, score2, score3)\n",
    "# print(\"TIME: \", time_taken_DP_Edit, time_taken_FR, time_taken_FR_Parallel)\n",
    "\n",
    "print(\"STR1:\", str1)\n",
    "print(\"STR2:\", str2)\n",
    "print(\"DP EDIT SCORE:\", score1, \"   FR SCORE:\", score2, \"   PARALLEL FR SCORE:\", score3)\n",
    "print(\"DP EDIT TIME:\", time_taken_DP_Edit, \"   FR TIME:\", time_taken_FR, \"   PARALLEL FR TIME:\", time_taken_FR_Parallel)"
   ]
  },
  {
   "cell_type": "markdown",
   "metadata": {},
   "source": [
    "### Testing for string length 48 from the following code block (t=3) alphabets A, C, G,T"
   ]
  },
  {
   "cell_type": "code",
   "execution_count": 28,
   "metadata": {},
   "outputs": [
    {
     "name": "stdout",
     "output_type": "stream",
     "text": [
      "Length of strings:  48\n",
      "STR1: CAGCACTGTCACGACTCATAGGTGGCAGAATTGCGGTACATAACACCT\n",
      "STR2: CGTCAGATCGTTTCGATAAAGCCTTTAATATCTGAATCGTCCACGACG\n",
      "DP EDIT SCORE: 28    FR SCORE: 28.0    PARALLEL FR SCORE: 28.0\n",
      "DP EDIT TIME: 0.0014772415161132812    FR TIME: 0.007238626480102539    PARALLEL FR TIME: 1.6685574054718018\n"
     ]
    }
   ],
   "source": [
    "z = 48\n",
    "print(\"Length of strings: \", z)\n",
    "str1 = createRandomString(z, alphabets)\n",
    "str2 = createRandomString(z, alphabets)\n",
    "\n",
    "start_time = time.time()\n",
    "score1, alignment = global_align(str2, str1, delta)\n",
    "end_time = time.time()\n",
    "time_taken_DP_Edit = end_time - start_time\n",
    "\n",
    "\n",
    "start_time = time.time()\n",
    "GroundTruthBlock, score2 = FR(str1, str2, t, allBlocks)\n",
    "end_time = time.time()\n",
    "time_taken_FR = end_time - start_time\n",
    "\n",
    "start_time = time.time()\n",
    "GroundTruthBlock, score3 = FR_Parallel(str1, str2, t, allBlocks, delay=0.1)\n",
    "end_time = time.time()\n",
    "time_taken_FR_Parallel = end_time - start_time\n",
    "\n",
    "# print(\"STR1\", str1)\n",
    "# print(\"STR2\", str2)\n",
    "# print(\"SCORE: \", score1, score2, score3)\n",
    "# print(\"TIME: \", time_taken_DP_Edit, time_taken_FR, time_taken_FR_Parallel)\n",
    "\n",
    "print(\"STR1:\", str1)\n",
    "print(\"STR2:\", str2)\n",
    "print(\"DP EDIT SCORE:\", score1, \"   FR SCORE:\", score2, \"   PARALLEL FR SCORE:\", score3)\n",
    "print(\"DP EDIT TIME:\", time_taken_DP_Edit, \"   FR TIME:\", time_taken_FR, \"   PARALLEL FR TIME:\", time_taken_FR_Parallel)"
   ]
  },
  {
   "cell_type": "markdown",
   "metadata": {},
   "source": [
    "### Testing for string length 132 from the following code block (t=3) alphabets A, C, G,T"
   ]
  },
  {
   "cell_type": "code",
   "execution_count": 29,
   "metadata": {},
   "outputs": [
    {
     "name": "stdout",
     "output_type": "stream",
     "text": [
      "Length of strings:  132\n",
      "STR1: TTCGTGGATTGCAGCGAGATTTCGAGTTACGAATGTCCTAAGGGTCTTTTCTTCTTGACTAGAGGGGGTAGCACCCTCGCTCTACCTATTTGCACGGGGAACAGGAGGCCCATTTGTTTTTTTTCTCCGTCG\n",
      "STR2: ACTAGGCCACGCTGTTCTTCATAAGGATATCGTTATTTCTCGGAACGATTAGGATGTATGGGCTGTTCATTGCCTGGCCTACCAGAGAATGCCTGAGAACAAAGAAAACATCGACGAGGATGTACCACATTT\n",
      "DP EDIT SCORE: 75    FR SCORE: 75.0    PARALLEL FR SCORE: 75.0\n",
      "DP EDIT TIME: 0.014417409896850586    FR TIME: 0.035115718841552734    PARALLEL FR TIME: 0.588878870010376\n"
     ]
    }
   ],
   "source": [
    "z = 132\n",
    "print(\"Length of strings: \", z)\n",
    "str1 = createRandomString(z, alphabets)\n",
    "str2 = createRandomString(z, alphabets)\n",
    "\n",
    "start_time = time.time()\n",
    "score1, alignment = global_align(str2, str1, delta)\n",
    "end_time = time.time()\n",
    "time_taken_DP_Edit = end_time - start_time\n",
    "\n",
    "\n",
    "start_time = time.time()\n",
    "GroundTruthBlock, score2 = FR(str1, str2, t, allBlocks)\n",
    "end_time = time.time()\n",
    "time_taken_FR = end_time - start_time\n",
    "\n",
    "start_time = time.time()\n",
    "GroundTruthBlock, score3 = FR_Parallel(str1, str2, t, allBlocks, delay=0.005)\n",
    "end_time = time.time()\n",
    "time_taken_FR_Parallel = end_time - start_time\n",
    "\n",
    "# print(\"STR1\", str1)\n",
    "# print(\"STR2\", str2)\n",
    "# print(\"SCORE: \", score1, score2, score3)\n",
    "# print(\"TIME: \", time_taken_DP_Edit, time_taken_FR, time_taken_FR_Parallel)\n",
    "\n",
    "print(\"STR1:\", str1)\n",
    "print(\"STR2:\", str2)\n",
    "print(\"DP EDIT SCORE:\", score1, \"   FR SCORE:\", score2, \"   PARALLEL FR SCORE:\", score3)\n",
    "print(\"DP EDIT TIME:\", time_taken_DP_Edit, \"   FR TIME:\", time_taken_FR, \"   PARALLEL FR TIME:\", time_taken_FR_Parallel)"
   ]
  },
  {
   "cell_type": "markdown",
   "metadata": {},
   "source": [
    "### Testing for string length 516 from the following code block (t=3) alphabets A, C, G,T"
   ]
  },
  {
   "cell_type": "code",
   "execution_count": 31,
   "metadata": {},
   "outputs": [
    {
     "name": "stdout",
     "output_type": "stream",
     "text": [
      "Length of strings:  516\n",
      "STR1: TTGAACATGAAACTTATCACATAGTACGTGATAGAGCGTATCAATCTTATGAGGGTTCGGACGCAATAGGGCCGCGTATGTTTTCCTAACGTCGCAGTGTTTGGCACCAGGAAAATGTAACGGGTATTATGGCATCAGAAATTGTGGCGACCGCCACAACCCAAATGGGGTACTTCCGTCAAGACCCGCTTATTAGGCAGAGGTTCAATATCACGATGGGGTCCGGGCTGGTGGGGTGAACCCACCGTATTGGAAATCGTGATGCGCTGTTGCGTGGTGGACACAAACCGTTGTTGTCAGCTGTCAAACATGTTGTACAATTTTGAAATACTACTGAAGGTACTGTGACCTTTTGTTGTACTAATTGGTGAACAGGGCCTCGCTGGCTATATCACCTGCCCTACGGGTTAAATCGACGGATTATCTACTTGACTTTTCTTAGTCAAAAGTACTTGAATGACTATTGAGAAGTATGACTCGCAACCTTTTAGCCAAATCAAAAAATGCCGATGCCGG\n",
      "STR2: CTGACAAACCTGGTTAGCACCTTTCTCTGCTTAGTGGGGAGTGACGTCACAGCGCGGCTACTCCCAGTTTAGGTGGGCCTCCACAACAGCCCTGTTTCCCTTCACCGCAAACGTCCCTCTCCAACATGTAGGTAGTGCACCAGACAGTTCAATAGGAGACGGTCGACGTGTGAAGGACAAGCTGATTGTAGGGAATGAAAAGTACCGTAGAAGCTTTCAGCGGCAGGTCATAAGAGGAGCGGTGCAGCTTACTGGACAGCAAGCTACCACAATCGCCCCGTACCCAAGCTACCGTATCACATGCAGCGGGTCACAAAGTGCCGGGTGAGTATGAGCAGACCACAAGGCAGCGTTGACTATCCCATCTGCCAACGGACCACGGCTAGAATTTTTAACAAAACATACCCATCCGTTAAGCCCGTTCCACTTGCGTAATGCCCGCTGACCTTAGAAACAAAGTGCGGCAACTCACCGTTATTCTATGGTCAAATGGACTTCCACCATTGGGTAGACGAA\n",
      "DP EDIT SCORE: 278    FR SCORE: 278.0    PARALLEL FR SCORE: 278.0\n",
      "DP EDIT TIME: 0.24657702445983887    FR TIME: 0.4996190071105957    PARALLEL FR TIME: 1.242581844329834\n"
     ]
    }
   ],
   "source": [
    "z = 516\n",
    "print(\"Length of strings: \", z)\n",
    "str1 = createRandomString(z, alphabets)\n",
    "str2 = createRandomString(z, alphabets)\n",
    "\n",
    "start_time = time.time()\n",
    "score1, alignment = global_align(str2, str1, delta)\n",
    "end_time = time.time()\n",
    "time_taken_DP_Edit = end_time - start_time\n",
    "\n",
    "\n",
    "start_time = time.time()\n",
    "GroundTruthBlock, score2 = FR(str1, str2, t, allBlocks)\n",
    "end_time = time.time()\n",
    "time_taken_FR = end_time - start_time\n",
    "\n",
    "start_time = time.time()\n",
    "GroundTruthBlock, score3 = FR_Parallel(str1, str2, t, allBlocks, delay=0.005)\n",
    "end_time = time.time()\n",
    "time_taken_FR_Parallel = end_time - start_time\n",
    "\n",
    "# print(\"STR1\", str1)\n",
    "# print(\"STR2\", str2)\n",
    "# print(\"SCORE: \", score1, score2, score3)\n",
    "# print(\"TIME: \", time_taken_DP_Edit, time_taken_FR, time_taken_FR_Parallel)\n",
    "\n",
    "print(\"STR1:\", str1)\n",
    "print(\"STR2:\", str2)\n",
    "print(\"DP EDIT SCORE:\", score1, \"   FR SCORE:\", score2, \"   PARALLEL FR SCORE:\", score3)\n",
    "print(\"DP EDIT TIME:\", time_taken_DP_Edit, \"   FR TIME:\", time_taken_FR, \"   PARALLEL FR TIME:\", time_taken_FR_Parallel)"
   ]
  },
  {
   "cell_type": "markdown",
   "metadata": {},
   "source": [
    "### Testing for string length 1188 from the following code block (t=3) alphabets A, C, G,T"
   ]
  },
  {
   "cell_type": "code",
   "execution_count": 32,
   "metadata": {},
   "outputs": [
    {
     "name": "stdout",
     "output_type": "stream",
     "text": [
      "Length of strings:  1188\n",
      "STR1: CATTCTCAACAGGACCTTTTCGCTGGTGGCAAGGAAGAAAAAATCCACCTTATTTGCACCACCAAAATATTGTTTTCCAGGCGCCTGGTTGTCCGATAACACGGCCTGGAATCAGCATGGAGGTGCGAAAGAGTGGACCAGCAGTGCATGGCAGTCGAGCCTGTCTGTCTGCGTTTAGGCCAGGGGTCAATAAGTTTAGCATAGTTTCCGAGGGCCGAGGCACAAATGATTATCGACTATAACCGTTTATGTGGCAGTCTCTGCGCTTTGCATAGACCTATTGGTGTAGCGGACTCCTGGACTCGTCGTTGGGGCACAATGTTCTTAAAACCTCTCGCTAAGCCTTCACGCTCTTCATTGCTTCTACACTCTATACCTAGGTTGTTCTAAACATGCTGACTTCAGGACGCAAAGTGTCTTTAACGGCGCTACGAATGCAAGGAAGCCAGTCTGCGGTGGTCAATCCACATGCCTCAGAGGGTCGGGCTAGATGCCCACACGAGATATCGTGAAACACGCTCGTTAGTAGCAGCCCCCTGTCCCCACCACGCCGGTAAACTGCTGCCCAGGCAACGTTCAACAACTGTCAAAGAACTAAGCCTTCTAGCGTACACTCCTGGAAGTACGCCCCAGAAATGTATTACCAGTGGTAGTGGCAACGTCGTTCTCTCTGTAATCACCACGCTCATCGTTCTCCAATGAGTGTTATTACAATCACCAACCCACGGGTAGTTCAATATCCCAGCGATGTACTCTCTACGGGACACGTCTCATAGAGTATAGCGCGCGATACTGCGGCTGGGATCTCCGGAAATGCATATGATCGTAACTTACCGCATCAAGACGTCATGATAACGTCACCATATGCCAGCGCGTCCGCTCCAGTATCGTTCTAATAGTCCCCCACGGCGGGTCCGCTTGCGGGCCGCATTTCTCATCTGGGTTGCTCGACATTTAAAACCCTCCTTCCAGAGATGCACTTTCGAACCCCTTCTACGAGCCGTGTGCGGATGCAACTATGCGTTTATTTTTTCGATAATAGACGTGTGCAACCAGCGATCGGACGGTCATAAAGCGTCACCTTTCCATTGCAGTCTCCCCCCATTTCTAGCAAGTAGCATGTTTGCGTGAGGGGTGACTGGCTATAAAGGAGTGCCCGACTGTCAAGATGTATTGCCGGTCGGCACA\n",
      "STR2: TGTGTCTAGGTGCTAGAGGACCACAGGTTTTGCCGTGCGTTGATTACTGCAGTTAGGTCAGGAGACCCTGGGGATCCGCTGCCGTGCATAAAGAGCCTGGGGATTGGGTGGCACATCAGCTTTCATCCGCTAAGTTGGACGTACTATATTCGGTGGATGTATGGACCCACTTGACGCTTGTACACCCATTAGTCTTTAGGCTTTACCCCAACCATGCTCAGCGGAGCAAATCATACACATCACAAGGAGTGCTTCCCTGACGACCTCCTGTATTATTCAAGTCATTCGAACGATTACACTTCTAAGGCCTCCGCTTACGCTCGAATACCCGCGTTACCATTCCTAACGCATTATCACCAGGGCTATATAATAGTGCACCACCCGTCTCGTTGCATTGTGCGCCCGCCTGCTAACTAAGAAAAGCACCGCAATCGGCCCATTGGACCTGCTGGGAGCTACCGTCATTAGATTGAAAGGCAAGTTGAAAGGAGTTGGGTACGTCATCAGAGAAAATCAACTAATCGACGTGTGTACGACGCACAAATGAGGTGTTGGACCAGATGTTCAAAGCAACTTAATTCTCTGGCTTTCTTATTCACGTTCACTTCGTCATTATTCGTTCAGGATGAAGATTCCACTAAAACCGCAGCCTACGTCTCCTGATGACCATAAGTAAGGAAACGGTGTAACTTAGTCAACAACCCAGCATCTGGCGTGACACCTGGGCACAAGCTTCGGGCTGCATTGTAGGTACCCTATTAGCATGCATTGACCCGTGCGCCGAATTACACAATCAAAATGGACTCCTGATCTCACACAGTGATGAAGGGGTTGAAGAGATTTAAATCGCCCGTTCAACTGACGCCTGACGGGCCTAGAGCACCTAGTACATACGCCCTTAAATGCAACGTGAAACCGCCCCTTACTGGGCTAGGACCAGTGTAACTGCAGTTCGGTACACTGATGGCCGCTTTTAATTCAGCGGGCCGATGAAATACGCCTTCTGTGATGATGGCGAGGGGTATGGTCTGCATCCGTGCGATTGTAAATGTAATGTCCGTGACCTCACATTTAGACCCTACGTGCATTCCATTGGCCTTGACAGACCTTGTTGGGGCCAGAGTTAAGTTCTTTGAGGTAGCAGCTTGATGCCGAGGCTCTTTCATTAGTGAACGCTTAGCTGAGGTG\n",
      "DP EDIT SCORE: 629    FR SCORE: 629.0    PARALLEL FR SCORE: 0.0\n",
      "DP EDIT TIME: 1.3806469440460205    FR TIME: 2.594050168991089    PARALLEL FR TIME: 2.892307758331299\n"
     ]
    }
   ],
   "source": [
    "z = 1188\n",
    "print(\"Length of strings: \", z)\n",
    "str1 = createRandomString(z, alphabets)\n",
    "str2 = createRandomString(z, alphabets)\n",
    "\n",
    "start_time = time.time()\n",
    "score1, alignment = global_align(str2, str1, delta)\n",
    "end_time = time.time()\n",
    "time_taken_DP_Edit = end_time - start_time\n",
    "\n",
    "\n",
    "start_time = time.time()\n",
    "GroundTruthBlock, score2 = FR(str1, str2, t, allBlocks)\n",
    "end_time = time.time()\n",
    "time_taken_FR = end_time - start_time\n",
    "\n",
    "start_time = time.time()\n",
    "GroundTruthBlock, score3 = FR_Parallel(str1, str2, t, allBlocks, delay=0.005)\n",
    "end_time = time.time()\n",
    "time_taken_FR_Parallel = end_time - start_time\n",
    "\n",
    "# print(\"STR1\", str1)\n",
    "# print(\"STR2\", str2)\n",
    "# print(\"SCORE: \", score1, score2, score3)\n",
    "# print(\"TIME: \", time_taken_DP_Edit, time_taken_FR, time_taken_FR_Parallel)\n",
    "\n",
    "print(\"STR1:\", str1)\n",
    "print(\"STR2:\", str2)\n",
    "print(\"DP EDIT SCORE:\", score1, \"   FR SCORE:\", score2, \"   PARALLEL FR SCORE:\", score3)\n",
    "print(\"DP EDIT TIME:\", time_taken_DP_Edit, \"   FR TIME:\", time_taken_FR, \"   PARALLEL FR TIME:\", time_taken_FR_Parallel)"
   ]
  },
  {
   "cell_type": "markdown",
   "metadata": {},
   "source": [
    "### Testing for string length 2400 from the following code block (t=3) alphabets A, C, G,T"
   ]
  },
  {
   "cell_type": "code",
   "execution_count": 33,
   "metadata": {},
   "outputs": [
    {
     "name": "stdout",
     "output_type": "stream",
     "text": [
      "Length of strings:  2400\n",
      "STR1: TGCAAATAGTGGTGCTTAGTCATTCTAGAATCATATTCGGAGAATAAATCGACTAAATTCGTCCTAGACCACTAAGTATATATTACTACAGCTACGACATTCGGCGCCTTCCATTTTCTAAGTCCCTTCGTAAGAGCCTTGTCTATTTAGTTAATCCCTCTCTGTCCCTCGAATCCGCAAAGTTAATCCGACCGCGGCCGATAGCCATGGGGAACGTTTTAGGAGTTCTCGTCGCAACTATCTAAGCAAGCACACAACATGAGGCTCCGCGGTACAAGTTAGCTAGACCCTACACTTGTAGAGGTATGATTTAGGTCACTCGATTGTTATCCCACGCCGAAAAGTCTAATCATGTGTACGAGCCAAGCGGACGTCAGGTGACCTAGGCCAAGCTAGGGGGCCGTCTGCCGGTCCAACCATGAAGGAAGTCCCAGATTATTTAGCACCTGAGGGGCGTTACTTGCCCCTCCGGGTTCCCGAATCCAGATGGCACTTTCCAGCGGGCAGCACCAGGGTATTCGGCAAGCTCAAACTCACCTGCCCATTGGTTGGTCGAGTAGCCTTCTCCAGTGACTGCAGCGAGATCCCGCACAGCGGCATGTTGCACTGTACGTAGATTGTGTGCTTATCCCGAGATAGTGGTACAGTGGGGAAGTTCAAGTGACTAACTCAACCTAGCGAGTCCTTCGACGTTTATAGAACGCGCGACCTAACAACCCTGGCGCGTGATGAGAGGCGATTTCCAACTCGCTATCGGGATATCGACCTGTATTAGCTGTACCAGATAGGAAACCATGACTCACGGATAATGGGTGCTTGCTTGTGTTTGCAGCAAGTGCTCTTTCTGGCTCAGAACGGCCCACAAACACCGACGAAAAGGACAGACAAACGAACCCACGTCACCTAATTCAAACCTATTCCGTTTCCTCTAGTCTCTGAACACCTGCACTTACTCCCTTTCGAAGTTGAGGGCGATTGGTCGAGCCTCAGTCGCGGAATGACAGACGTAGGGATGAATAGGCTTATTTCAACTTCCATGCTCTTAAAATTATGTCTATGTCTTTACGAGAGGAAAGAAAATTCCGCTGGTAGGCCTCCAGGTACCAACATTCCTCATGACCCTACGGTCGGCGTCCAAATGGAGTCTAGGCTGCAAACTTTTTGCGGTAGATTCGCGCTAAATAATCTTAGCCACGACATAAATTTTCCATGAGAATCACCTAGTTCAACCAGAAACATCATGCTTACCACCTGACTATCTGACATTCCATCCTTTATCTGCCTAGTCAGACTTACTGAGCTCGGGGCGCCTTACTCGAAGGCTAGTGTAAGTGTTTTGGTATCATAGAAAAGTCTATCGGCCTTGACTTACATTACGAGTTACTCCCCTACTACCGTCTTCAAATTAGTGAGATTGCTATAGTTTCATCAATCTACTCTTCGCAAGCTTTGTTATTCTTCTAGGACGTCTGGATCTGGCTAGTTTAGATAGAGTTACGCACTGGATGGCACAGACACTATTTTCCATGCGTGCCCTGATACTCTTTTCAGCGGATAATGTATATGGCTAGTGAGTCGTCGGCTAACGAGTGGATCCAAACCCCCAGGATCTGAACAGTGACTCGAACCGGATATGATAGCATCTAGCTCCTGCCCGGGGGAACATAACCTTGCCAACCAAATAGGGACTGCGTAACGTCATGCTCGGTCTGGAAAGGATGTCGAGCAAGATGTTATAGATACCGGTTCCTGGACGGTTGCAGGAAGCGACTCTCGCAACGCTCTGGGTACAGGCTACCATTTCCGGTGGACTTTGGGTGACAAGGGCCACTCGAGGCACTACCACCACAAGGAATCGCCAGTTCACCCCCGGTGGCACGCGCAGCGCGAGGCCGTCATCTGAGCGTCCCTATCAAGACAAAAGCTCGGGAAACCCTAGCGAGAATAACGGATGTCAAGAATAACATATACGATCAGAACATTCGGCTCAGGTTCGATTCGTTAAGGTCGGCAGTGCATCGATGACCCTAAGGTGAGGATGCACCACACAAGCTGCGGGCTCGCATTGGAATACCTAGCTTACGTAGTAAAATGCTCACGGTATTTGGGGCGAGAGCGATGTCGCGAAATGCGAAGTCCTGATGAGACTTCAGGTGGATTAGTGCCAATACAGGCCTCCACTTTGGAGTCAACCGATAAGGCGATTTCAAGTTTAGGAGTCAGCTCCGCGGGTGTCTCTGACGTTGTTACACTCATTGGATAGCAGTATCATCGACTCCCAATGTGACGAATCAGTGAGGGGGCGTGTGGCGCGCGCACACAATGTGCTCAACTCATTTAATCTCAGCCGGGATCCGACAGACTAACCAAAGGGTTGCAATCCGTTGGTAAAGGCTGCGT\n",
      "STR2: AGCTCGAAGAAGCCGTCTTGCTTGAGCATTTAACGTGCAGATATGCGTGGAGCGGAGCTGAAGAGGCTATTAGGTCAACCAGTCGCCTCCGGCTAATTGATAGGGCTGTGCCCTGCCAGACCTCCGGGTCACTCCCGATAGTCCCAGATCCAGCAATTAATTGTCTATTCTGTTAGAGTACTATTACGTCACGGTGTAAAAAGCTTACGGGAGTGACCGTCGTACACGTTTCGGTCTACGGATGCCCATACCGTGTCGACACGAAAGTATTACCTATCATACACCAGGGAGGGACTACCAAGGCCTATGATCCATTCTCGACGCGCGAGAATAGGCTATTCAGCCGCCTTAAAGGCTACTGTGGGACGTGTATTGTATATTTTGCACCACTAACGCAGTACTACGTTCTAGTCCGTTACATTCTCTCGAGGTAGTAGCCAATTCGAGGGGGCGCGCTCGGTCTAGCCCGACCTGGCTCACCTGTCAGGCGAGTTTAAGCTTTACAACTAATGTGGCAAGAGGCACCCTGTCTGGGAAATGTATTAATGGGATGAAGCAGCATGCTAAGCTTATATGTGTGTGATCAATTTCATTGCGCTGTTATCTCTACAGGCATAACTCCCCTCCGTCCAAGGCTAAATTCTTCTACGTGTGCCTACCGCTACTGCTGTGTGCAGCACCCGTATGTTGTGCGCTGTGTACCGAAGATCAAGGATTGTCCAACTGAAGGTGATGTGTAATATGTGGCCTAGCGGGAGCCTTACTGCAACAACGTAAAAGCAGCGTGAGCGGAAGGCTATGAGCCTGGCACTGCAATAGGTCAGTAGCTAAGCGGAGATGACCCCTCATCTAAACGCATTCTGGTGATAAGTCTATAGAATTATAGTGTCATGAGATTAGAGCATCATGGAGGGGGTGATTTCTTCTTGACTTACTCTGCAAGATTGGTGTCTTCCCCATAGAGTGATACCGAACCGTTAGTGCTCTAATCAATACCCACCTCTCAATAGGCGTTCGGCAATGCAACTACCACGTGCGGGAAGACCGTTGCCCACAATAACGACCGCATCTAAAACTGTGATGCATTTGCAGGGAAGCTTAACTTCAACACAGTGAACTGCCGGCGCGCTGGGTTCAGGACAATAAGGCTGTCGCGCTGAGAGATGTGATGATTGATTGTTTAAGCACAAACAGCTCTCTGCTGTTGGGGCAATATTGTGGATTGTCAAAGGATCTGCGCGAGCGGCAGTCACGAACCTAGTTTCCGAGTGTAGACGACCCGGCTTCCAGGTCGCGTGGGAATCGAGCTACTGCCTCAAGGGCCAACCTACGTCTAGAACGCGCACCTAGTAATCTCCAACGCGTTAACTGTATATGCGCTTTGCCCGATCCTCCGCTTTTCAGTCCACGTCTACTTAGTTCACAAACGACAACCAGAGCCAGAAAGCTCCTGATAATTAAAGATTGATTGCACGATTGCCATTGATCACTGTGAGACGACCACTCTCGATGCCTCAGCTGAAAAATTTATCCTTCAACTGTACCTCTTGGGGAACCACAAACGGTGAATTGCATACAAGTTGTACTCGAAGTCCATGCATAAAGCGTATGAATGAACCAAAGCAATTTAACGTACATATAAAAGTAAGAGGAGACTACGGGGTCTATTAGGGCCGCCTCATCTATAAATCCTACTAGTCCTCACCCGAGCTCTCGTTGGGCGGGAAAACCTACACGCATCAATGTCATGTGCCCCTCCCCCACCGATCACTGCTGTCTGGGTATCCCGAGCGACTCCATGCGCAGACTCTCCATTGCCTCTGCTCGCACTCGTCCCGAATGCCAAGAACATTCCGATGTTGCAGTGATGAATTCCGCAGTCATGGGGTTAGAACTGTTAGCCTCAAAAGCGGGCGTTCTAATGACGACTACGGGGAAGCCTTTCCACGCTATTGAGATCGACCCCCCACTCCTCGAGCGCCCCTGCGTCAATATGCCGCAGTACCCATGGTGTGCGACTACGTCAAGAGTCGTAGCAGGGAAAGCGGCTACAACTAGGGCGGGGGAAGGTAATTGGTGGGGGAGAAGCGTACGTTATGTGCTGTGATGAGCTCCACCTAAAGCCCTACGTATACCGGAGAGTACGGGGCTATGCCGCAAATCGCCAGCGGCCGACTTGACAACCCTCCCGTCAATTCTTCTGATATAAGTTCAAACCTAATGCCCTCAGCACATTAGAGTATAGGTTTTTATCTTTACTTATCCTTCGATGCTACGTAAGGATTTGACTAGCAGCGATAATTGTGATCTGAGAATCCTATCTGGCGCCTAGCCAAAGGGAGGAAACTGTAGAATCCCTCCTGGCATCTTTGGTTGCCGATAGGGCCCATCCTGGAAACA\n",
      "DP EDIT SCORE: 1258    FR SCORE: 1258.0    PARALLEL FR SCORE: 0.0\n",
      "DP EDIT TIME: 5.951075077056885    FR TIME: 10.386453628540039    PARALLEL FR TIME: 9.37135910987854\n"
     ]
    }
   ],
   "source": [
    "z = 2400\n",
    "print(\"Length of strings: \", z)\n",
    "str1 = createRandomString(z, alphabets)\n",
    "str2 = createRandomString(z, alphabets)\n",
    "\n",
    "start_time = time.time()\n",
    "score1, alignment = global_align(str2, str1, delta)\n",
    "end_time = time.time()\n",
    "time_taken_DP_Edit = end_time - start_time\n",
    "\n",
    "\n",
    "start_time = time.time()\n",
    "GroundTruthBlock, score2 = FR(str1, str2, t, allBlocks)\n",
    "end_time = time.time()\n",
    "time_taken_FR = end_time - start_time\n",
    "\n",
    "start_time = time.time()\n",
    "GroundTruthBlock, score3 = FR_Parallel(str1, str2, t, allBlocks, delay=0.005)\n",
    "end_time = time.time()\n",
    "time_taken_FR_Parallel = end_time - start_time\n",
    "\n",
    "# print(\"STR1\", str1)\n",
    "# print(\"STR2\", str2)\n",
    "# print(\"SCORE: \", score1, score2, score3)\n",
    "# print(\"TIME: \", time_taken_DP_Edit, time_taken_FR, time_taken_FR_Parallel)\n",
    "\n",
    "print(\"STR1:\", str1)\n",
    "print(\"STR2:\", str2)\n",
    "print(\"DP EDIT SCORE:\", score1, \"   FR SCORE:\", score2, \"   PARALLEL FR SCORE:\", score3)\n",
    "print(\"DP EDIT TIME:\", time_taken_DP_Edit, \"   FR TIME:\", time_taken_FR, \"   PARALLEL FR TIME:\", time_taken_FR_Parallel)"
   ]
  },
  {
   "cell_type": "markdown",
   "metadata": {},
   "source": [
    "############################################################################################################################\n",
    "############################################################################################################################\n",
    "############################################################################################################################"
   ]
  },
  {
   "cell_type": "markdown",
   "metadata": {},
   "source": [
    "### Testing for string length 24 from the following code block (t=4) alphabets A, C"
   ]
  },
  {
   "cell_type": "code",
   "execution_count": 12,
   "metadata": {},
   "outputs": [
    {
     "name": "stdout",
     "output_type": "stream",
     "text": [
      "Block size 4\n",
      "ALL BLOCKS - PRECOMPUTE TIME 67.65768504142761 seconds.\n"
     ]
    }
   ],
   "source": [
    "t = 4\n",
    "alphabets = ['A', 'C',]\n",
    "start_time = time.time()\n",
    "allBlocks = finalBlocksGetter(alphabets, t)\n",
    "end_time = time.time()\n",
    "time_taken_all_blocks = end_time - start_time\n",
    "print(\"Block size\", t)\n",
    "print(\"ALL BLOCKS - PRECOMPUTE TIME\", time_taken_all_blocks, \"seconds.\")"
   ]
  },
  {
   "cell_type": "code",
   "execution_count": 13,
   "metadata": {},
   "outputs": [
    {
     "name": "stdout",
     "output_type": "stream",
     "text": [
      "Length of strings:  24\n",
      "STR1: ACAACACCACAAACAAAACAAACC\n",
      "STR2: ACAAACAACACAAACCACAACAAA\n",
      "DP EDIT SCORE: 6    FR SCORE: 6.0    PARALLEL FR SCORE: 6.0\n",
      "DP EDIT TIME: 0.0    FR TIME: 0.005674839019775391    PARALLEL FR TIME: 0.35131001472473145\n"
     ]
    }
   ],
   "source": [
    "z = 24\n",
    "print(\"Length of strings: \", z)\n",
    "str1 = createRandomString(z, alphabets)\n",
    "str2 = createRandomString(z, alphabets)\n",
    "\n",
    "start_time = time.time()\n",
    "score1, alignment = global_align(str2, str1, delta)\n",
    "end_time = time.time()\n",
    "time_taken_DP_Edit = end_time - start_time\n",
    "\n",
    "\n",
    "start_time = time.time()\n",
    "GroundTruthBlock, score2 = FR(str1, str2, t, allBlocks)\n",
    "end_time = time.time()\n",
    "time_taken_FR = end_time - start_time\n",
    "\n",
    "start_time = time.time()\n",
    "GroundTruthBlock, score3 = FR_Parallel(str1, str2, t, allBlocks, delay=0.05)\n",
    "end_time = time.time()\n",
    "time_taken_FR_Parallel = end_time - start_time\n",
    "\n",
    "# print(\"STR1\", str1)\n",
    "# print(\"STR2\", str2)\n",
    "# print(\"SCORE: \", score1, score2, score3)\n",
    "# print(\"TIME: \", time_taken_DP_Edit, time_taken_FR, time_taken_FR_Parallel)\n",
    "\n",
    "print(\"STR1:\", str1)\n",
    "print(\"STR2:\", str2)\n",
    "print(\"DP EDIT SCORE:\", score1, \"   FR SCORE:\", score2, \"   PARALLEL FR SCORE:\", score3)\n",
    "print(\"DP EDIT TIME:\", time_taken_DP_Edit, \"   FR TIME:\", time_taken_FR, \"   PARALLEL FR TIME:\", time_taken_FR_Parallel)"
   ]
  },
  {
   "cell_type": "markdown",
   "metadata": {},
   "source": [
    "### Testing for string length 48 from the following code block (t=4) alphabets A, C"
   ]
  },
  {
   "cell_type": "code",
   "execution_count": 14,
   "metadata": {},
   "outputs": [
    {
     "name": "stdout",
     "output_type": "stream",
     "text": [
      "Length of strings:  48\n",
      "STR1: AACCCACCCCCAAACCCAACCACCAAAAACCACACACCCCCACCACAA\n",
      "STR2: AAAACCCCACACCACCCCCAAAAAAACCAACCAAAACCAACACCAACA\n",
      "DP EDIT SCORE: 18    FR SCORE: 18.0    PARALLEL FR SCORE: 18.0\n",
      "DP EDIT TIME: 0.003608226776123047    FR TIME: 0.013235330581665039    PARALLEL FR TIME: 1.2668960094451904\n"
     ]
    }
   ],
   "source": [
    "z = 48\n",
    "print(\"Length of strings: \", z)\n",
    "str1 = createRandomString(z, alphabets)\n",
    "str2 = createRandomString(z, alphabets)\n",
    "\n",
    "start_time = time.time()\n",
    "score1, alignment = global_align(str2, str1, delta)\n",
    "end_time = time.time()\n",
    "time_taken_DP_Edit = end_time - start_time\n",
    "\n",
    "\n",
    "start_time = time.time()\n",
    "GroundTruthBlock, score2 = FR(str1, str2, t, allBlocks)\n",
    "end_time = time.time()\n",
    "time_taken_FR = end_time - start_time\n",
    "\n",
    "start_time = time.time()\n",
    "GroundTruthBlock, score3 = FR_Parallel(str1, str2, t, allBlocks, delay=0.1)\n",
    "end_time = time.time()\n",
    "time_taken_FR_Parallel = end_time - start_time\n",
    "\n",
    "# print(\"STR1\", str1)\n",
    "# print(\"STR2\", str2)\n",
    "# print(\"SCORE: \", score1, score2, score3)\n",
    "# print(\"TIME: \", time_taken_DP_Edit, time_taken_FR, time_taken_FR_Parallel)\n",
    "\n",
    "print(\"STR1:\", str1)\n",
    "print(\"STR2:\", str2)\n",
    "print(\"DP EDIT SCORE:\", score1, \"   FR SCORE:\", score2, \"   PARALLEL FR SCORE:\", score3)\n",
    "print(\"DP EDIT TIME:\", time_taken_DP_Edit, \"   FR TIME:\", time_taken_FR, \"   PARALLEL FR TIME:\", time_taken_FR_Parallel)"
   ]
  },
  {
   "cell_type": "markdown",
   "metadata": {},
   "source": [
    "### Testing for string length 132 from the following code block (t=4) alphabets A, C"
   ]
  },
  {
   "cell_type": "code",
   "execution_count": 15,
   "metadata": {},
   "outputs": [
    {
     "name": "stdout",
     "output_type": "stream",
     "text": [
      "Length of strings:  132\n",
      "STR1: ACCCCACAAAAACCAACCCACCACCCCCACACACCACAAACCACCAACCCAAAAAAACAACACCAACCCAAACCCCACCACCCCCAACCCCAAACACCCCCAACCAAACACACCCAACAACACCAAACAAAA\n",
      "STR2: CCACCACCAAAAAACCACCCCCCCAACAAACAACCCAACCCCCAACCACAAAAACCACACCACCCAACACAAACCCCCAACACCAACAACCAAACAAACCCAACACACACCCACCCACAAAACACACACCCC\n",
      "DP EDIT SCORE: 38    FR SCORE: 38.0    PARALLEL FR SCORE: 38.0\n",
      "DP EDIT TIME: 0.030030250549316406    FR TIME: 0.04444265365600586    PARALLEL FR TIME: 0.40308237075805664\n"
     ]
    }
   ],
   "source": [
    "z = 132\n",
    "print(\"Length of strings: \", z)\n",
    "str1 = createRandomString(z, alphabets)\n",
    "str2 = createRandomString(z, alphabets)\n",
    "\n",
    "start_time = time.time()\n",
    "score1, alignment = global_align(str2, str1, delta)\n",
    "end_time = time.time()\n",
    "time_taken_DP_Edit = end_time - start_time\n",
    "\n",
    "\n",
    "start_time = time.time()\n",
    "GroundTruthBlock, score2 = FR(str1, str2, t, allBlocks)\n",
    "end_time = time.time()\n",
    "time_taken_FR = end_time - start_time\n",
    "\n",
    "start_time = time.time()\n",
    "GroundTruthBlock, score3 = FR_Parallel(str1, str2, t, allBlocks, delay=0.005)\n",
    "end_time = time.time()\n",
    "time_taken_FR_Parallel = end_time - start_time\n",
    "\n",
    "# print(\"STR1\", str1)\n",
    "# print(\"STR2\", str2)\n",
    "# print(\"SCORE: \", score1, score2, score3)\n",
    "# print(\"TIME: \", time_taken_DP_Edit, time_taken_FR, time_taken_FR_Parallel)\n",
    "\n",
    "print(\"STR1:\", str1)\n",
    "print(\"STR2:\", str2)\n",
    "print(\"DP EDIT SCORE:\", score1, \"   FR SCORE:\", score2, \"   PARALLEL FR SCORE:\", score3)\n",
    "print(\"DP EDIT TIME:\", time_taken_DP_Edit, \"   FR TIME:\", time_taken_FR, \"   PARALLEL FR TIME:\", time_taken_FR_Parallel)"
   ]
  },
  {
   "cell_type": "markdown",
   "metadata": {},
   "source": [
    "### Testing for string length 516 from the following code block (t=4) alphabets A, C"
   ]
  },
  {
   "cell_type": "code",
   "execution_count": 16,
   "metadata": {},
   "outputs": [
    {
     "name": "stdout",
     "output_type": "stream",
     "text": [
      "Length of strings:  516\n",
      "STR1: AAACACCACCCCCACCCAAAACAACAACAAAACCACACACACCACCCAACACCAACCACACCAACAAAACAACAACACCAAACAAAACAAAAACAAAACACCAACCCACCAACCACCCACCCCAACAACAAACAAAACAAACCACACACCAAAACACAACCCCAACAAACCCACCCACAACCCCCAAAAACAAAAACACCCCCAACACCACACAACACAACACACACCAACACCCCACAAACACACCCCACCCCCACACCAAAAAACCCCACACCCAAAACCACACACCCACCACACAACAACCCAAAAACACCAACCAAAAAACAACACCCACACACAAACCCACAACAACAAAACAACACAACCAACCCCAAAACACACCAACAACCAAAACACAACCCCCAAAAAAACACCCCACCAAACCACACAACAACCCAACCCACCACACAACCCACCCACCCCCACCACAAAAAACAAACCCCAACAAAACCAACCCACAAACCACAAAACCACCCA\n",
      "STR2: ACCCAAAACACCAACCAACAACCCAAACCCACCCAACAAACAACCCCAACACCAACCCCACCCACCACAAACCCCACCCAAAAACAAAACCAACACACACACAACCCCCACACCCCCCACCAACCAACCAAACAACCACCCCAAACCAAACCACCAAACCAACCCCCAAACACCAACCCAAAACAAAAAAACCCACAACCACCCCCAACCCCACCACAAAAACCAACCACAAAACCCCCAAACCACCACACCCCACACAACCCCACAACCACAAAAACACACCAAACAACAAAAAACACACAAAAACACCCAACAACAAAAACACCAACACCCCAAAACAAAACCCCAACCCCCCACACACAACCACCCCCAACACACAAAAACCAAACCAACACCAAACACAACACAAACACCCCAACCCCAACCACCACCACCACAAAACCCCAACCACCCCCAAACACACACCCAAACAAAAACCCCACCACCCAAAAAAACAACCCCAAACAACCCCACCCC\n",
      "DP EDIT SCORE: 150    FR SCORE: 150.0    PARALLEL FR SCORE: 150.0\n",
      "DP EDIT TIME: 0.4281728267669678    FR TIME: 0.5675528049468994    PARALLEL FR TIME: 1.7106397151947021\n"
     ]
    }
   ],
   "source": [
    "z = 516\n",
    "print(\"Length of strings: \", z)\n",
    "str1 = createRandomString(z, alphabets)\n",
    "str2 = createRandomString(z, alphabets)\n",
    "\n",
    "start_time = time.time()\n",
    "score1, alignment = global_align(str2, str1, delta)\n",
    "end_time = time.time()\n",
    "time_taken_DP_Edit = end_time - start_time\n",
    "\n",
    "\n",
    "start_time = time.time()\n",
    "GroundTruthBlock, score2 = FR(str1, str2, t, allBlocks)\n",
    "end_time = time.time()\n",
    "time_taken_FR = end_time - start_time\n",
    "\n",
    "start_time = time.time()\n",
    "GroundTruthBlock, score3 = FR_Parallel(str1, str2, t, allBlocks, delay=0.005)\n",
    "end_time = time.time()\n",
    "time_taken_FR_Parallel = end_time - start_time\n",
    "\n",
    "# print(\"STR1\", str1)\n",
    "# print(\"STR2\", str2)\n",
    "# print(\"SCORE: \", score1, score2, score3)\n",
    "# print(\"TIME: \", time_taken_DP_Edit, time_taken_FR, time_taken_FR_Parallel)\n",
    "\n",
    "print(\"STR1:\", str1)\n",
    "print(\"STR2:\", str2)\n",
    "print(\"DP EDIT SCORE:\", score1, \"   FR SCORE:\", score2, \"   PARALLEL FR SCORE:\", score3)\n",
    "print(\"DP EDIT TIME:\", time_taken_DP_Edit, \"   FR TIME:\", time_taken_FR, \"   PARALLEL FR TIME:\", time_taken_FR_Parallel)"
   ]
  },
  {
   "cell_type": "markdown",
   "metadata": {},
   "source": [
    "### Testing for string length 1188 from the following code block (t=4) alphabets A, C"
   ]
  },
  {
   "cell_type": "code",
   "execution_count": 20,
   "metadata": {},
   "outputs": [
    {
     "name": "stdout",
     "output_type": "stream",
     "text": [
      "Length of strings:  1188\n",
      "STR1: AACACAACCACACAAACAAACACACCCCAAACCACACCCAAAAAAAAACCCCACCACCAAAAACCACCACAACAACCCCCAACAACACAAACCACAACAAACACACACCCACAACAAAACCACACCCCACCCAACCCAACAAAAAACCACACCACCACACCCCAAACAAAAACACACAAAACAAACCCACCACCCACCAAACCCACAACAACACCAAAAACCACACACCCCCACACACACCCCAACACACCCCCCACCCCACCAAAAAACCCCCCCCAACAAAACAAACACCAACAAAAAAACACCACACCCACCACCCCCCCCCCCCAAACCAAACAACCACCCCAACAAAAAAACACACAACAAACCCAACCAACACAACAAACACCCCCCACACACCCCAAAACCACCCCCCCCCCACCACCAAACACAAAACCACCCAAACAACAACAACAAAACACCCACCAACAACAAACCCACAACAAACCCAAACCACCAACCAACCCACACCCCAACCAAAACAAAAAACCAAAACCCACCCCCAACCCACCCCACACCAAACCACAAACAAAACAACCAACAACAAAAACCAACACCAACCAACCCAACCAACCCCACACACCAACCAACAAAACACACAAAACCAAAAAAACAAACACCCACCCACACACCAAACCAACAAACCCCCAAACAAAACAACCCCCCAACCACCAACCAACACAACCCACAACCAAAAAACACACCCCAACCAACAAACCCCAAACACCAACACCCCCACCAAAAACCAAACCAACCACAACAACAACCACCACCCACAAAAAAAAAAACCCACCAAAACACCCAAACCAAACCCAACAAAAAAAAACACCCCCACAACCCAACCAAAACACACAAACCAACCCCACCAAAACCACACAAAAAACCACCCCCCCACAAACAACCAAACCCCACCCAACCAAAAACCACCAACCAAAACAACCACACACACACACACACCCAACAACACCAACCCACAACCAAACCAACCCACCCCCACCCACAACCACAAAACACCCACAAACCAAACACCACAACCAACCCCCAAAACCCACCACACAAACCCAACCCAACAACAACCCCACCAAACCCCCCACAAACCCAACCCCCCCCCAAACAACCAAAAAAACCAACCCACAACAAAAACACACC\n",
      "STR2: CCCCACCAAACCCCAACCACAACAAACAAACACCCAACACCACAAAACAACAAACACCAACAAAAACCCACACCAACACAAACCAACACCAAACCAAAAACCAACCCCACAACAAAAAAAAACAACAACCCACACACCCCACAACACACACAACACCAAAAACACACAACAAAAACAACCACAACCAACCAAAAACCACCACAAACCAAACCCAAACCCAACAAACCCCAACCAAACACACACACAAAACAAAAAACAAAACACCCCCAAAAACACCCAACCACCAACAAACACAACAACAACCCACCCAACCCCCACACACACACCCAAAAACACACAACCACACCCCCAACCAACACAAACCAACCCAAACCCACACCACCACCCAAACACCCCCCCCCCACAAAAACAAAAAACCAACACAAACACAACCACCCCACCAACACACAACCCAACAAACAAACACCCACCCCCAAAAAAACCACCACCAACAACAACAACCAAAAAACCCCCCAACCCCACAACCAACACACACACCCACAACCCAAAACCCACAACACAACAACACACACACCCACCAACAACCCCCAAAAACAAAACCCAACACCAAAAAAAACACCAAAAAAAACCCCAAAAAAAACAACCCCACCAACAAACAAACCCCACAACAACCCAAACAAAACAAACCACAAAACCAACACCACACCACCCCACACAAAACCCCCCAAAACCCCCAACACACCAACCAACCCACCAACACCACCACCAACCAACCCAACAACAAACACACACCCACCAACCACACAAAAAACCAAACCCCCACCACCACAACACCAAAACCCCAACCCACCACAACAACACAACACACAACACACAAACAACAAAACAAAAACCCCAAACAACACACACAACACAACACACCCACCCAAACCCCACCAAAAAAAACCAACCCCCCACAACACCCCAAAACAACCCCCCCCCAAACCACCCACCCCCACACACCCAAAAAACCCCCACCAACCAACCAACCAACCACCCAACCACCCCAACACACCAAACCCCCCCAAAAAACACAACACCAACCCAACCACCAAAAAAACCAACAACCCACCACCAACCCAAACACAACACCAACAAAAAAACACAACACACACCCACCACCACCCCAACAAACCAAAACAAAAACCC\n",
      "DP EDIT SCORE: 353    FR SCORE: 353.0    PARALLEL FR SCORE: 353.0\n",
      "DP EDIT TIME: 2.5594654083251953    FR TIME: 2.8135440349578857    PARALLEL FR TIME: 17.04731774330139\n"
     ]
    }
   ],
   "source": [
    "z = 1188\n",
    "print(\"Length of strings: \", z)\n",
    "str1 = createRandomString(z, alphabets)\n",
    "str2 = createRandomString(z, alphabets)\n",
    "\n",
    "start_time = time.time()\n",
    "score1, alignment = global_align(str2, str1, delta)\n",
    "end_time = time.time()\n",
    "time_taken_DP_Edit = end_time - start_time\n",
    "\n",
    "\n",
    "start_time = time.time()\n",
    "GroundTruthBlock, score2 = FR(str1, str2, t, allBlocks)\n",
    "end_time = time.time()\n",
    "time_taken_FR = end_time - start_time\n",
    "\n",
    "start_time = time.time()\n",
    "GroundTruthBlock, score3 = FR_Parallel(str1, str2, t, allBlocks, delay=0.05)\n",
    "end_time = time.time()\n",
    "time_taken_FR_Parallel = end_time - start_time\n",
    "\n",
    "# print(\"STR1\", str1)\n",
    "# print(\"STR2\", str2)\n",
    "# print(\"SCORE: \", score1, score2, score3)\n",
    "# print(\"TIME: \", time_taken_DP_Edit, time_taken_FR, time_taken_FR_Parallel)\n",
    "\n",
    "print(\"STR1:\", str1)\n",
    "print(\"STR2:\", str2)\n",
    "print(\"DP EDIT SCORE:\", score1, \"   FR SCORE:\", score2, \"   PARALLEL FR SCORE:\", score3)\n",
    "print(\"DP EDIT TIME:\", time_taken_DP_Edit, \"   FR TIME:\", time_taken_FR, \"   PARALLEL FR TIME:\", time_taken_FR_Parallel)"
   ]
  },
  {
   "cell_type": "markdown",
   "metadata": {},
   "source": [
    "### Testing for string length 2400 from the following code block (t=4) alphabets A, C"
   ]
  },
  {
   "cell_type": "code",
   "execution_count": 21,
   "metadata": {},
   "outputs": [
    {
     "name": "stdout",
     "output_type": "stream",
     "text": [
      "Length of strings:  2400\n",
      "STR1: AACAAAACCCCCCCACAAAAAAAACCAACACAACCACCCCCCAACAACCCCAACACCAAACAACCACACCACCACACAAACAACCCAAACCCACCCCACAACCCCAACACACAACACAACACCCCACACCACACAAAACCCACCCCCAACACCCAAACACCACACACACCACCCAACACCCAAAAAAACCCCCCCAACCAACCACACCACACCACCAACCACCAAAAAACCAACCAAAACAACCAACCAAACAACACCACAACACCCCACAACACCCACCAACACAAACCCAAACCCCAACCAACACCCAACCACCAACACCAAAACCACCACCCCAAAAAACACCCAAACCCCAAACCAAAAACCAAACACCACCACACCACCCCAACACACCACCCACCACACCACCCCACCAAAACAACACAACAACCCAAACAAAACCAAACAACACAAACAAACACCCAACACCAACACCCCAAAAACCAAAACACACAACCCCCCCCACAAACAAAAAAACAAACCACACACACCACACAAACAACACCCCCACCAAAAACCCCAACCACCAACACAACCCCCAAACCACCCCAACCCACCAACAACACACACCCCACCAAAACACAACAAAAACCCCACCCACACCACACAAACAAAACCCAAAACACACAACCACCCCAACCACCACACCACAACACAAAAAAACCACCACCAAACCCCACAAACCCAAACAACAAACACACACCCCAACCCCCCAAAACCCACCACCACAACCCACACAACCCCACCCCCAACACCACACACCAACAACCACCCAAACAACAAACAACAACCAAACCCCCACCAAACCACAACAACCAAAAAAAAACCCCCCCAAACACCAAAACAAACCAAAAACAACCACACCAAACCAACACAAACCCAAACCACAAACCACCAAACCAAACCCAAACCAACCACAACCCAAAACCCCAACAACACAACCCCAAAAAAAACAACCAAAACAACCCAACCCCAACACACCAAACCACCAACCACCACAAAACCAACACCCACACAAACACCCAACACCACACCACCCAAAAAACCCACAAAACCCAAAACCAAAAAAAAAAACCAACAAACCCAACCACAACCCACCCCACCCAACCACAACCAACCAACCAAAACCCAACAAAACCCCCCCACAACCACACAAAAACAAACACCCCACCACACAACCCCCACACCACACACAAACCCCCCCCACCACCCACCCACAAACCCCACAAACCAACCCCCCCCACCAAAAACCACAACAACCAACCACCACACCCCAACAACCACCCCAAACAAAACAACCACCACCAACAAACCACCCACCAAACAACCCAAACCAAAACCAAAACACCAAACCAACACCCACCCCACCCAACCCACCAACCCACCCAAACCACCCCAAAAAAACAACACACCCACCACAAACCCCCCACAACAACCAACCCCCCACCCCCAACACAAACCCCCCAAAACCACCAAAAACACCAACACCACAACACCCACAACCAAACCAACACCACAACACACCACACCCAAAACAACCAACCCCCAAACAACAACAACAAAAACACCACACAAAACAAAAACAACAAAAAAACCAAAACAAAAAAACAACCACAACCCCACCCAAAAAAAACACACCCCCAAACACCAAAACAACACACCAACCAACCACCCCACCAACAACAAACCAAACACACCACCAACCCCCCACAAACCCACCACAAAAACCAAAACAACAAAACCAACACACAACACCAACCCCACACAAAAAACACCCACCCCACAACCCCACAAAACACACAACACACACCCAAAAACAACACACACCAACACAACACCCAAAACCCACCCACCACACCCCACCCACAACCACCCCACCACCCAACAACCACCCCCAAAACAAAACCACCCACCCACCAAACCAAACAACAACCCCAAACACCAACACCCCCCAAAACACCAACCACACAACACCACCAAACAAAACACCCCCACACACCCCAAAACACCCAACAACACACCCAAAAACAAACCCCACCCACCCCCACCCCCCAACCAAACCCCACCCACCCACACACACCCAACCAAACCCCAACCACCCACCACCCACAAAAAAACACACACACCACACCAAACCCCCCACCCCCAACAAAACACCACCCCAACACACACAAACACCAACAACCACACCCCCCAACACACACCAACAAAACCCACAACCAAACACAACCCACACCACACCCAAACCAACCAACCCAAAAAAACAACACCACACACAAACACCACACCCCACCAACACCCCAAAACAAAACCAACAACCAACCACAAACCACAACACACCACCCACCCCAAACACCAAAC\n",
      "STR2: CAACCCAAACCACACCAAACACACACCAACACACAACCCCACACCCACCCAACCCCCCACCCAACAACCAACCACCCACCCCCCAACACACAACAAACACCCACAACAACAACCCCCACCAAACCCCCACCAACAAAAACCACAACCCCCACAACCCAACACCAACACCCACACCACCCAAACCAAACCCACCACCAAAACACACCACAACCACAAACAAACACAAACACCCCACAACCCAAAACCCCACAAAAACACACCCCCCACCACCACCCAACAAAACACCCCCCACACACAACACCACACCAACCCCCACAAACAACCAAAACCCAAAACCACCACAACCCCACAACCCACCACCACACACAAAACAAAAACACCCCAACACACACCACCCACAACACCCCCCCAAACCACCACACACAAACACAAAAACCCCCCAAACACCCACACACACCCAAAAACACACCCCCCACCAACCCAACACCAAACAAACCAAAACACCACACCCAAACAACCCAACAACCCCCAACAAACCACCCAAAACCAAAAACCACAAACACCAAAAACCCCACCACACCAAACCAAAAACCACCAAACACCCAAAACCAAACACCACCCACCCAACAAAACCCACACCACACACAAACCACAACCAAACCCACAAACCCAAAAAAACCCAAACCACAACCCACACCCCAAAACAACACCCAACCAACAAAACACACACCACACCACCCCAACAAACACAACAAACACCACCACCACCCCACCCCCCCAAACCCCAAACCAAAACACCCAAAAACACACAACCCAACCCAACCAACCCACACCAACCCCCCACAACCCACCCAACAAAAAAACCCCACACAACCACAAACACACCACACCCCCCCACCCAAACCCCAACCCAAACACCCCACACCCACCAACAAACCCCAAACCCCACACCCAAACAAAACAACCCCCCCCACAACCCCAACCCCACCACCCCACCAAACAACACACCCAAAAAACCAAACCCCCCAAAACAAAACCCACCAACCAACCAACCAAAAAACACCCCAACCCCCCACCCCAAAAAAACCCAAAACCAACAAAACACCAAAAAACACCCAACCCAACACACCACCCCCACCACACAACCCCACCACCACACCCACACACAACAACCCCCCACAAACACAACAAAACCAAAACACACCCCCACCACAACAACACCAAAACCAAAAAAAACAACCAAAACCACAAACACACAACCCCCCACCCAACAAACCACACAAACACCCCAACCACACACAACCAACCACAAACAAAACAACAACCACAACACCCAACCCCCCCCACCACCCCACACCCCAAAACCACACACACAACCACACCAACACAAAAAACAACCACAACAAAAAACACCACAAAAAAAACAACCCCAACCAACCACCACCAACCCCCACCCCAAAAAACCAACCACCCCAACCAACCAACCCAACCCCCCAACCCCACCAACACAAACCACAACCACCAAAAACCCCCACACCCCACAACACCAAAACCAAAAAACAACCAAAACCCACACCAACCAAAAACCAAAAACAAACAACCAACCCAACCAACCACCCCCACCACCCCAAAACAACACAACCACCAACAACAACCAAAACCACACAACACACAAAACCACACACCAACCCCCACCCACCCACCAAAAAACCACAACACCCCAAAAACAACACCCAAACAAAAACCACCCACACACAAAACAAAACAACACAAACACAAAACCCCACCCCACAACCCAAAAAAACCCAAAACACACCCCCACCCCAAAAAACACAACCAACAAACAACCAAAAACCCACCACAAAAAACAACCCAACCAAACCACCAACAAACCACCAACAACACCCCCCCACAAAAACAAACACCAACAAACCCCCACCCAAAACACACCACCCCCCACCCCCCCCCACACACACCACAACAAAACAAAACACACAACCCAAACACCACACACCCACAAACCACCAAAACAAACCCACCAAACAAACCCCCACCCCCAAAACCCAACCAAAACACCACCCACCCCAAACCACCCACACCACCCCCAAACCACCACCACCAACAACCAACACCCACACCAACAACCAACAAACAACCAAACAAAACCCACCAACACACCACCACACCCACCAAACCCAAACACCAACCCAACAACAACCAAAAAAAACCACCACCCCCACCACAAACAAACACCAAACAACCCCCAACAAAACCAAAAAACCACACCCCCACAAAAAAACACCCCAAACCCAACACCCAACCACCCCACCCCACACAACCCAACAACACCCCCCCCCCCCCCCACACCAAACCACAACCAAACCCCCACCCACAAACCAC\n",
      "DP EDIT SCORE: 696    FR SCORE: 696.0    PARALLEL FR SCORE: 696.0\n",
      "DP EDIT TIME: 9.647907733917236    FR TIME: 8.218746185302734    PARALLEL FR TIME: 34.16373634338379\n"
     ]
    }
   ],
   "source": [
    "z = 2400\n",
    "print(\"Length of strings: \", z)\n",
    "str1 = createRandomString(z, alphabets)\n",
    "str2 = createRandomString(z, alphabets)\n",
    "\n",
    "start_time = time.time()\n",
    "score1, alignment = global_align(str2, str1, delta)\n",
    "end_time = time.time()\n",
    "time_taken_DP_Edit = end_time - start_time\n",
    "\n",
    "\n",
    "start_time = time.time()\n",
    "GroundTruthBlock, score2 = FR(str1, str2, t, allBlocks)\n",
    "end_time = time.time()\n",
    "time_taken_FR = end_time - start_time\n",
    "\n",
    "start_time = time.time()\n",
    "GroundTruthBlock, score3 = FR_Parallel(str1, str2, t, allBlocks, delay=0.05)\n",
    "end_time = time.time()\n",
    "time_taken_FR_Parallel = end_time - start_time\n",
    "\n",
    "# print(\"STR1\", str1)\n",
    "# print(\"STR2\", str2)\n",
    "# print(\"SCORE: \", score1, score2, score3)\n",
    "# print(\"TIME: \", time_taken_DP_Edit, time_taken_FR, time_taken_FR_Parallel)\n",
    "\n",
    "print(\"STR1:\", str1)\n",
    "print(\"STR2:\", str2)\n",
    "print(\"DP EDIT SCORE:\", score1, \"   FR SCORE:\", score2, \"   PARALLEL FR SCORE:\", score3)\n",
    "print(\"DP EDIT TIME:\", time_taken_DP_Edit, \"   FR TIME:\", time_taken_FR, \"   PARALLEL FR TIME:\", time_taken_FR_Parallel)"
   ]
  },
  {
   "cell_type": "markdown",
   "metadata": {},
   "source": [
    "############################################################################################################################\n",
    "############################################################################################################################\n",
    "############################################################################################################################"
   ]
  },
  {
   "cell_type": "markdown",
   "metadata": {},
   "source": [
    "### Testing for string length 24 from the following code block (t=3) alphabets A, C"
   ]
  },
  {
   "cell_type": "code",
   "execution_count": 22,
   "metadata": {},
   "outputs": [
    {
     "name": "stdout",
     "output_type": "stream",
     "text": [
      "Block size 3\n",
      "ALL BLOCKS - PRECOMPUTE TIME 3.038381338119507 seconds.\n"
     ]
    }
   ],
   "source": [
    "t = 3\n",
    "alphabets = ['A', 'C',]\n",
    "start_time = time.time()\n",
    "allBlocks = finalBlocksGetter(alphabets, t)\n",
    "end_time = time.time()\n",
    "time_taken_all_blocks = end_time - start_time\n",
    "print(\"Block size\", t)\n",
    "print(\"ALL BLOCKS - PRECOMPUTE TIME\", time_taken_all_blocks, \"seconds.\")"
   ]
  },
  {
   "cell_type": "code",
   "execution_count": 23,
   "metadata": {},
   "outputs": [
    {
     "name": "stdout",
     "output_type": "stream",
     "text": [
      "Length of strings:  24\n",
      "STR1: ACCCACCACACCCAACCCCAACAA\n",
      "STR2: ACCCCCAAAACAAACACCCAACAC\n",
      "DP EDIT SCORE: 6    FR SCORE: 6.0    PARALLEL FR SCORE: 6.0\n",
      "DP EDIT TIME: 0.0    FR TIME: 0.01295924186706543    PARALLEL FR TIME: 0.461681604385376\n"
     ]
    }
   ],
   "source": [
    "z = 24\n",
    "print(\"Length of strings: \", z)\n",
    "str1 = createRandomString(z, alphabets)\n",
    "str2 = createRandomString(z, alphabets)\n",
    "\n",
    "start_time = time.time()\n",
    "score1, alignment = global_align(str2, str1, delta)\n",
    "end_time = time.time()\n",
    "time_taken_DP_Edit = end_time - start_time\n",
    "\n",
    "\n",
    "start_time = time.time()\n",
    "GroundTruthBlock, score2 = FR(str1, str2, t, allBlocks)\n",
    "end_time = time.time()\n",
    "time_taken_FR = end_time - start_time\n",
    "\n",
    "start_time = time.time()\n",
    "GroundTruthBlock, score3 = FR_Parallel(str1, str2, t, allBlocks, delay=0.05)\n",
    "end_time = time.time()\n",
    "time_taken_FR_Parallel = end_time - start_time\n",
    "\n",
    "# print(\"STR1\", str1)\n",
    "# print(\"STR2\", str2)\n",
    "# print(\"SCORE: \", score1, score2, score3)\n",
    "# print(\"TIME: \", time_taken_DP_Edit, time_taken_FR, time_taken_FR_Parallel)\n",
    "\n",
    "print(\"STR1:\", str1)\n",
    "print(\"STR2:\", str2)\n",
    "print(\"DP EDIT SCORE:\", score1, \"   FR SCORE:\", score2, \"   PARALLEL FR SCORE:\", score3)\n",
    "print(\"DP EDIT TIME:\", time_taken_DP_Edit, \"   FR TIME:\", time_taken_FR, \"   PARALLEL FR TIME:\", time_taken_FR_Parallel)"
   ]
  },
  {
   "cell_type": "markdown",
   "metadata": {},
   "source": [
    "### Testing for string length 48 from the following code block (t=3) alphabets A, C"
   ]
  },
  {
   "cell_type": "code",
   "execution_count": 24,
   "metadata": {},
   "outputs": [
    {
     "name": "stdout",
     "output_type": "stream",
     "text": [
      "Length of strings:  48\n",
      "STR1: AACCAACCCACCCAAACAAACACACCAACCCCACAAACCACCCCAAAA\n",
      "STR2: CACACACCCCAACCAACCACCCCCACAAAACAAACAACACACACAACC\n",
      "DP EDIT SCORE: 18    FR SCORE: 18.0    PARALLEL FR SCORE: 18.0\n",
      "DP EDIT TIME: 0.004113435745239258    FR TIME: 0.018053770065307617    PARALLEL FR TIME: 0.9098646640777588\n"
     ]
    }
   ],
   "source": [
    "z = 48\n",
    "print(\"Length of strings: \", z)\n",
    "str1 = createRandomString(z, alphabets)\n",
    "str2 = createRandomString(z, alphabets)\n",
    "\n",
    "start_time = time.time()\n",
    "score1, alignment = global_align(str2, str1, delta)\n",
    "end_time = time.time()\n",
    "time_taken_DP_Edit = end_time - start_time\n",
    "\n",
    "\n",
    "start_time = time.time()\n",
    "GroundTruthBlock, score2 = FR(str1, str2, t, allBlocks)\n",
    "end_time = time.time()\n",
    "time_taken_FR = end_time - start_time\n",
    "\n",
    "start_time = time.time()\n",
    "GroundTruthBlock, score3 = FR_Parallel(str1, str2, t, allBlocks, delay=0.05)\n",
    "end_time = time.time()\n",
    "time_taken_FR_Parallel = end_time - start_time\n",
    "\n",
    "# print(\"STR1\", str1)\n",
    "# print(\"STR2\", str2)\n",
    "# print(\"SCORE: \", score1, score2, score3)\n",
    "# print(\"TIME: \", time_taken_DP_Edit, time_taken_FR, time_taken_FR_Parallel)\n",
    "\n",
    "print(\"STR1:\", str1)\n",
    "print(\"STR2:\", str2)\n",
    "print(\"DP EDIT SCORE:\", score1, \"   FR SCORE:\", score2, \"   PARALLEL FR SCORE:\", score3)\n",
    "print(\"DP EDIT TIME:\", time_taken_DP_Edit, \"   FR TIME:\", time_taken_FR, \"   PARALLEL FR TIME:\", time_taken_FR_Parallel)"
   ]
  },
  {
   "cell_type": "markdown",
   "metadata": {},
   "source": [
    "### Testing for string length 132 from the following code block (t=3) alphabets A, C"
   ]
  },
  {
   "cell_type": "code",
   "execution_count": 25,
   "metadata": {},
   "outputs": [
    {
     "name": "stdout",
     "output_type": "stream",
     "text": [
      "Length of strings:  132\n",
      "STR1: ACCAACACACCAACCACACCCCACCACCACACACCACAAACCAACAAAACACCAAAACAAACACAAACCAAACCCACCCACCAAACACCCACCCACCCAAACAACCACACCAAACACCCCACCCAACCACAA\n",
      "STR2: AACCACAACACCACACCAAACACAAAACACAACCCCACCCCACCCAACAAAACAACCACACACACACCCCACCAAAAAACACCCCAAACCCCCAAACACAAACCACCCCCACACAAAAAACACCCCACCCCA\n",
      "DP EDIT SCORE: 43    FR SCORE: 43.0    PARALLEL FR SCORE: 43.0\n",
      "DP EDIT TIME: 0.03368830680847168    FR TIME: 0.09506011009216309    PARALLEL FR TIME: 0.5439987182617188\n"
     ]
    }
   ],
   "source": [
    "z = 132\n",
    "print(\"Length of strings: \", z)\n",
    "str1 = createRandomString(z, alphabets)\n",
    "str2 = createRandomString(z, alphabets)\n",
    "\n",
    "start_time = time.time()\n",
    "score1, alignment = global_align(str2, str1, delta)\n",
    "end_time = time.time()\n",
    "time_taken_DP_Edit = end_time - start_time\n",
    "\n",
    "\n",
    "start_time = time.time()\n",
    "GroundTruthBlock, score2 = FR(str1, str2, t, allBlocks)\n",
    "end_time = time.time()\n",
    "time_taken_FR = end_time - start_time\n",
    "\n",
    "start_time = time.time()\n",
    "GroundTruthBlock, score3 = FR_Parallel(str1, str2, t, allBlocks, delay=0.005)\n",
    "end_time = time.time()\n",
    "time_taken_FR_Parallel = end_time - start_time\n",
    "\n",
    "# print(\"STR1\", str1)\n",
    "# print(\"STR2\", str2)\n",
    "# print(\"SCORE: \", score1, score2, score3)\n",
    "# print(\"TIME: \", time_taken_DP_Edit, time_taken_FR, time_taken_FR_Parallel)\n",
    "\n",
    "print(\"STR1:\", str1)\n",
    "print(\"STR2:\", str2)\n",
    "print(\"DP EDIT SCORE:\", score1, \"   FR SCORE:\", score2, \"   PARALLEL FR SCORE:\", score3)\n",
    "print(\"DP EDIT TIME:\", time_taken_DP_Edit, \"   FR TIME:\", time_taken_FR, \"   PARALLEL FR TIME:\", time_taken_FR_Parallel)"
   ]
  },
  {
   "cell_type": "markdown",
   "metadata": {},
   "source": [
    "### Testing for string length 516 from the following code block (t=3) alphabets A, C"
   ]
  },
  {
   "cell_type": "code",
   "execution_count": 26,
   "metadata": {},
   "outputs": [
    {
     "name": "stdout",
     "output_type": "stream",
     "text": [
      "Length of strings:  516\n",
      "STR1: ACCCACCCCCCACCCACACCCCCAAACCCAAAACACACACAAAACCCACCACCACCCCCCCCCAACCACCCCCAACACACCCACCCCCCAAAACCACACCAAAACCACAAAACAACACACCCAACACCAACCAACCAAAACACAACCCACACAAAAAAACACCACAACCAAACACCCACAAAAACAAACCCCACAACACCAAAACCACACAAAACCCCCACAACACAAACCCAAACAAACCAACCCCACCCCCAAAAACCCCAACCAAAAAACACACCAACAAACAACACCCCCCCAACACACACCAAACACCCCAAAAAAACCAACCACCCAAACAACCACAAACCACCCCCCCACCACAAACCAAAACCCAACCAACAAAAACCACACAAACCACCACACCACAACCCCACACAACCCACAAACACCACCCCAAAAAACCAACACACCACCACAAAAAACAAACACCCACAACCACACCCCACCCAACAACCCAAACCACCAACCCAAACCAAC\n",
      "STR2: CACCCAACCCACCCACCCCCCCCCACCCCCAACCAACCACAACCAACCAACACAAACACCCCACCCCACAACCCCAACACCCAAAAAACAACACAACCCCCCCCCCCACAACCACCCCAACCCCCCCAAACACCACCCACCAAACAACACCACACCACCACCAAAAACCACACCCACAACAAAAACCCCCCAAAAAACCCACAACACCACCCCACACCCCACACCCACAACAACAACACAACACCACCACCACAACCCACCAACACCCAACACAAACCAACCACACACACCAACCCCAACACAAACCCAAAACAAACACCACACCCAAAACCCCCACACAAAACAACAACACAAACAACACCACAACCCCCAACCACAACAAACCACACCCCAAAACAAAACAACCCCCCCCCAACAAAACAAACACAACACACAACACACACCACAAACACCACCCACCCAACCCCAACCCAAAACCACCCAAAAACACCCCCAAAACAAAAACCCACCCACCAC\n",
      "DP EDIT SCORE: 160    FR SCORE: 160.0    PARALLEL FR SCORE: 160.0\n",
      "DP EDIT TIME: 0.5093371868133545    FR TIME: 0.892662763595581    PARALLEL FR TIME: 2.3547556400299072\n"
     ]
    }
   ],
   "source": [
    "z = 516\n",
    "print(\"Length of strings: \", z)\n",
    "str1 = createRandomString(z, alphabets)\n",
    "str2 = createRandomString(z, alphabets)\n",
    "\n",
    "start_time = time.time()\n",
    "score1, alignment = global_align(str2, str1, delta)\n",
    "end_time = time.time()\n",
    "time_taken_DP_Edit = end_time - start_time\n",
    "\n",
    "\n",
    "start_time = time.time()\n",
    "GroundTruthBlock, score2 = FR(str1, str2, t, allBlocks)\n",
    "end_time = time.time()\n",
    "time_taken_FR = end_time - start_time\n",
    "\n",
    "start_time = time.time()\n",
    "GroundTruthBlock, score3 = FR_Parallel(str1, str2, t, allBlocks, delay=0.005)\n",
    "end_time = time.time()\n",
    "time_taken_FR_Parallel = end_time - start_time\n",
    "\n",
    "# print(\"STR1\", str1)\n",
    "# print(\"STR2\", str2)\n",
    "# print(\"SCORE: \", score1, score2, score3)\n",
    "# print(\"TIME: \", time_taken_DP_Edit, time_taken_FR, time_taken_FR_Parallel)\n",
    "\n",
    "print(\"STR1:\", str1)\n",
    "print(\"STR2:\", str2)\n",
    "print(\"DP EDIT SCORE:\", score1, \"   FR SCORE:\", score2, \"   PARALLEL FR SCORE:\", score3)\n",
    "print(\"DP EDIT TIME:\", time_taken_DP_Edit, \"   FR TIME:\", time_taken_FR, \"   PARALLEL FR TIME:\", time_taken_FR_Parallel)"
   ]
  },
  {
   "cell_type": "markdown",
   "metadata": {},
   "source": [
    "### Testing for string length 1188 from the following code block (t=3) alphabets A, C"
   ]
  },
  {
   "cell_type": "code",
   "execution_count": 29,
   "metadata": {},
   "outputs": [
    {
     "name": "stdout",
     "output_type": "stream",
     "text": [
      "Length of strings:  1188\n",
      "STR1: AACACCCCACCAACAAACCCCACAACCACCACCACCACACAAACCCCACAACCCACACCCCAACACAACCACAACAACAAAAAAACCCAAACAACCCCCCACCCACACCAAACCAAACCCACCACACCCCACAACAAACAACAACCAAAACCCAAACAACACCCCCCCAAACCAAAAACACCAACACCCCCAACAAACACCCCACCCCCCACACCCACCCCAACCAAACCAAACCCACCCACCCACACCCACACCCACCCCCACACACCACCCCACAAACACACCCCCAAAACCAACAACAAACACAACCAAAACCAACCAAAAAAACCCAAACCCCCCACAACACCAACCAACCACAACACCCACACACAACCAACAACCAACACCCCCCAACACAACAAACACCACCCCAAACCCCCAACAAAACCCCAACACACCCCCCCAACACCACAACCAACCCACACACAACACCCAAACCACCACACAACACAACCCACAAAAACACACCCCACACAACCACCACACCCACCAAAAACCCCCCCCAACCCCCCCACCAAACCAAACCCACACAACACCACACCACCACAAAAAAAAACAACAACCACCACAACCACAACCAAACCCAAAACCCCCCCAACACAACACACCCCCCCCAACACCCAACACCCCACAACCCCCCAAACCAACAACCACAAACCAAAACCCAAACACCCAACACCCAACACCAACACCCCAAACCCCACAACCCCACCAACCCCCCAACCAACAAACCCAAACCCACAAACACCCCAAACAAAACCACACAACCACCAACCACCACAAAAACCAAACCCCCCCACCACCCAACACAACACCACACACCCACAAAAAAAACAAACCACAAACCAACACACAACCCCAACAACCCAAAACCCCCACACACCCCACCCACCCCACAAAACCAAACCCAACACAACAACACACCCACACAAAACCACACCACACAACAACCCACAAAAAACAAACCAAACACCCCACCAACCAAACAAAACCACCCAAACCCCCACCCAAACACAACAACACCCAACAACCAAACCAAACCACACCCAACCAAAACAACCACCCCCAACACCAACCCAACCCAAACAAACCACACAAACCCACAACAAAACCCCAACCCACCAAACAAACCAAAACCACCACACACCA\n",
      "STR2: AAACACCAACCAAACACCACACCAAAACACCCACCAACCACCCCAACCCCAAAAACCAAACAAACAACCAACCCCACCCAAACACCCCCCCAACCACCACCCACCACAAACAAAACCCCCCCACAAAACAAAACACACCCCAAACAAACCCCCAAACCCACAACAAAACCCCCCACACCCCACAACAACAACAAAACCACAAACCAAACACCCAACAACCACCAACCACCAACCACCCACCAAAAAACCAAAAAACCCAACCACAAACCCACAACCACACCACCCAACCCAAACACACAACAACAAAAACCAAAACAAAAAACCAAAACACACAACAAACAAACCACCACCACCCCCCAAAAAAACACAACACACAACACCACCACACCCCACACAAACACCACACACCAAAAACCCACACCCAACCCACCACAAACACCACCACCCCAAAACAAACAACCCCAACACACACCCACACCCCACCCAACCACCCACCCCACCAACCCAACCACCCACCAACCAAAACCACACAAAAACCCACACAAACCCCAAAAAACAACACACACCCCCCACAAAAAAAAACACAAAAACACACCCCACAACAAACCCACAAAAACCCCACCACACCCACACCCCAAAACCCCACCAAAACACCACACCACACAACCAAAACAAAACAAAAAACACAACCCCCAACCACCACCCAACAACACCACAACCCACCCAACCCCACACCACAACCCCACACAAACCAACCCCCAACCAAAAAAACACAAACCCCCAAACCCACCCCCAACAACAACCACAAAAACACACACCAACAACCACCACCCACCAACCCCAACCCAACACCCCCAAAACAACCCCCACCCAACAACACAAAACACCCCCACAACCCACAAAACCACCCACACCACACAAACACAAACCCCACCCCAAAAAAAACCAACCAACCAAAACCCACACAACACACAACCAACCCACCAACACACCCCCACAAAAACCCACACCCACCACCCACCCAACAAACCCCCCAAAAACCCCCACACCAAAAACCCCCACACCCCCAAACCACCAAAACAAACACACACCACACAAAACCAAACACAAACAACCACAACCCACCACACACCAACCCCCCACCACAACAACCAACAAACCCCCAAACCCAACACCAACCAACCCCCA\n",
      "DP EDIT SCORE: 346    FR SCORE: 346.0    PARALLEL FR SCORE: 346.0\n",
      "DP EDIT TIME: 2.480792760848999    FR TIME: 4.609804630279541    PARALLEL FR TIME: 22.84338927268982\n"
     ]
    }
   ],
   "source": [
    "z = 1188\n",
    "print(\"Length of strings: \", z)\n",
    "str1 = createRandomString(z, alphabets)\n",
    "str2 = createRandomString(z, alphabets)\n",
    "\n",
    "start_time = time.time()\n",
    "score1, alignment = global_align(str2, str1, delta)\n",
    "end_time = time.time()\n",
    "time_taken_DP_Edit = end_time - start_time\n",
    "\n",
    "\n",
    "start_time = time.time()\n",
    "GroundTruthBlock, score2 = FR(str1, str2, t, allBlocks)\n",
    "end_time = time.time()\n",
    "time_taken_FR = end_time - start_time\n",
    "\n",
    "start_time = time.time()\n",
    "GroundTruthBlock, score3 = FR_Parallel(str1, str2, t, allBlocks, delay=0.05)\n",
    "end_time = time.time()\n",
    "time_taken_FR_Parallel = end_time - start_time\n",
    "\n",
    "# print(\"STR1\", str1)\n",
    "# print(\"STR2\", str2)\n",
    "# print(\"SCORE: \", score1, score2, score3)\n",
    "# print(\"TIME: \", time_taken_DP_Edit, time_taken_FR, time_taken_FR_Parallel)\n",
    "\n",
    "print(\"STR1:\", str1)\n",
    "print(\"STR2:\", str2)\n",
    "print(\"DP EDIT SCORE:\", score1, \"   FR SCORE:\", score2, \"   PARALLEL FR SCORE:\", score3)\n",
    "print(\"DP EDIT TIME:\", time_taken_DP_Edit, \"   FR TIME:\", time_taken_FR, \"   PARALLEL FR TIME:\", time_taken_FR_Parallel)"
   ]
  },
  {
   "cell_type": "markdown",
   "metadata": {},
   "source": [
    "### Testing for string length 2400 from the following code block (t=3) alphabets A, C"
   ]
  },
  {
   "cell_type": "code",
   "execution_count": 31,
   "metadata": {},
   "outputs": [
    {
     "name": "stdout",
     "output_type": "stream",
     "text": [
      "Length of strings:  2400\n",
      "STR1: ACCCCCCCCCACCAACACAACAAACAAACCAACCCACCACACAAACCAACCAAACAAAAACCAACCCAACACCAAAAAAACCAACCCACACCACACCACCCACACCCCCACAACACCCCAACACAAACCAAACCCCAAACCCCAAAAAACAAACAACCCCAACACACAACACAAAACCCACCCACACAAACCCCCACAAAACACAACCACAACCCAAAACACCAACCCCCACCCAACCACACACACCACACCCACCAAACCACCAAAAACACAACAACCCAACCAACCAAACAAAACCACACCCCACACACAAACCCAAAACAACACAACCAAACAAACAACCCAAAACAAAACCACACACAAACACCACCACAAACCAAACCCCAACCACCCCCCCACACACAAACCCAACAAAAAACCACACCAAACCCCAAAAAACCAACACACACACCCCCCAACACCAACAACCACACAACCAAAAAAAACCACACCAACCCACCCCCACCACCACAACCAACCAACCCAAAACCACACCAACAAAAAAACCCCACAACCACACAAACACCCAACAAAACAAACAAACCCACAAACACAAAACAAAAACACAAACCCCCACCCCAAACCCCACAAAAACACAACAAAACACCCACCACCCCCACCCAAACACCCACAACCCAAAAAACCAAAAACCAAACAACCCCAAAAACAACCCACCCACCCCCACCCCACACCCCACCACCCAACCACCAACACCACCCACACAAACAAAACCAAAACAACAACCCCCCCACCCAAAACACAACAACACACCCACAACAAAACCCAACAACACACACAAAAACAACAACACCCAAACCCCACACCCCCACAAACCCACCCACACCAAACAACAAACCCCCCCCCACCCACCACAACCCCACAAACCACCCCACCACACCAAACACCACCCAAACACCACCCCAAACCAAAACCCAACACCCCAAACAACCCCAAACAACACCACAAAACAACCCCCCACAAAACAACCCCCACAACACACCCCCCCAAACCCCACACCCCCAAAACACACCCACCACCCAAACCCCAACACACACCAAAACACCACCAAACCCACCACACCCCACAAAACACACCAACCCAAACCACCACACAACAAAACAAAACACCACAACACAACCCCCAAACACCCACAAACCCCAAAAAAAAACCCACCCCCCCAACAACCAACCAAACCAACACCCCACAACCCCCCCCCAACACCAAACCACACCAACAACCAACAACCAACACAACCCAACCCACAACACCAAAACACACCAAAAAAAAAACACACCACCAAACACCACCCACCACCCCCACAACCACCAACCAAAAAAAACCAACAAAAAACACCCCCAAACCAACCCAAACCCAACAAACAACCAACCCCCCAACACACACCCACACACACACCACAAAAAAAAACAACAACAACACCCAAACAACACACAAACAACACAAAACCCCCAACACCCACAAACCCAAACCCAACCAACCACACACCAACCACCCAACAAAAAACCCCCCCAAACAACAAACCCCAAAACAACACCCACAAACAACCCCACAACCCCCCACCCACAAAAACCCACAAAAAACACACCCAAACACACCAAAACAAACCAAAACACACACAAACCACACAAACAACAACACAAAACCAACACACACAAAACACACACAAAACCCCACCACCACCAAACAACCCACAACAACACACAACAAAACAACACAACCACACAACCCCCAACCACACCACCCAACCACCAACCCACCACAAACAACCAAAAAAACAACAAAAACACACAACCCCAAACCAACAAACAAACCCCAACCACCAAAACAACACAAACAAAAACCCCCACCCACCCAACCAACCCCCCAAACCACCCAAAAACCAAACCCCAAACACACCCCCAACACCCCCCCCAACCCCCCACACACAACCCCAAACAAACAAAAAACACCCCCAAAAACACACAAAAAAAAACACACCACCAAAACAAAAAAAAACACAACCACCACCCAACACCCCCACACCCCAAAACAAAACACACACACCAACCAACCCCCAAACAACCAAACACCACACAACACAACAAAACACACACACAACAAAAAACCCCCAACCCAACCAACCCCAAACACAAAAACCAACAAAAAACAACAAAACCAACCAAACAACCACCCACCCCACAACAAACAACAAAAAAACCCCCAACAAAAACCCAAAAACACACACAAACACACACACAAACCCAAACAACAAAAACCAACCAAACCAAAAAAACACACAACACCCACCAAAAACAAAAAAACCAACCACCACAAAAACACACACAACACCAAAAACACACACAA\n",
      "STR2: CCAACAAAAAACCCCCAAAAACCAAACACACACCCAAACCACCAACAACCCACCCAACCCCACCACCAAACACCAAAAAAACACCAACAAAACCCACCAAACAAACCAAACCCAACCCAACACACACACACACAACAAAACAAAAAACCAAAAAAACCACCCCCACAACAACCCCACCCCCAAAACCAACAAACCAACACACCCAACACCCCCCCCCACAACAACCCAAAACACCACCCCACACCCACCACAACCAACAAAAAACAACCACAAAAAAACCCCAAACCCCACAACCAAAAACCCCAAACCCACCAAAAACAAACCCAAACACCACCCAACAAACCCAAAACACCAAAAACCCCAAACACCCCCCAACACACCAACACCCCAACAACCCACAACCCAAACCAAACACCAACCCACCCAACAACCCCCACAACCCACCCACAAACAACCCCCCCACCCAACCAACCCCCACACAAACCAAACCACCCCAACCCACACCCCCCACCAAAAACCAAACCCAAAAAACAAACCAAACCACCCACCCACCCCACCACCACACCCCAACAACCACCACCCAAACCACACACAAAAACACACCAACCACACAACAACCAACACCCCAACAACCAAAAACCAAACCACAAAACACAAACAAACAAAAACAACCAAAAAACACAACCCCCCCCCAACCAAAAAAACCACCACACCAACCCAAAAACCCCCCAAACCAACCCCAAACCCACCAAACACACAAAAACCCACCACAAAACAAACCCAACCCCACCCCAAACCACAACAAACCCCCCAACACAAACCAACCCCCCCACCCAAACACCCCCAACCAAAACACCAAAAACCACAAAAACCCCCCCCCAAAACAACACAAAAAAACCAACAAAAACCAAAACAAAACACCAACCCCCACCACCACAACACACCAACCCCCAAAACACCCCCAAACAAACACACAAACAAAACCCCAAAAAACCACCAAAAACAAACCCCAAACCACCAACAACAACACCCAAAAAACACCAACACACCACCAACCACAAAAAACCAACAACCCACCCCACCAAACCACACAACACACCAAACCCCCCCCCCAACAACCACCACCCCCAAAACCCCCACAAACCAAAACAAACACAAACCACACACAACACACACCCAAACACCACAACCAACACACCCCCCACACACACACAAACCACCAACACACACCAAACACAAAAACCCCACACACCACAACAACAACACAAAAAACCCCAACACACCCCCCCAAACCAACAAAAAACAAACCCAACCACCCCAACCCCCCCACCACCACCACCACAACAAAAAACAAAAACCCAAAACAACACACACACAACACCACACCCCCCCCAAACAACCAACCAACAAACCAAAAACAACCCACCAACAACACAACACCACCACCAACCCACCCCACACACCCCCAACAACCAAAACCACACCCCAAACCACACCACAACACCCACCACACAACACAAAACCCCACACCCCCAAAAACCCCACCACCCACCACACCAAACCACCCACACACCACCAAACCCAAAAACCCCCCACCAACCAAACACCCCCCACAAAAACCACCAACCCACACCAACAACCAACACAAAACCACACAAAACCCCCAACCACACCCAACAAAAACACACAACACACCAAAACCAACACCACAACAAACAAAAACCAACCACACACACAAACAACCCACCAACCACAAACACACCCCACCAAAACCCCACAAAACACCAACCCCCCCACCCAACCCAACCCCCAACAAACCCAAAACCACCAACACCACACCCCAAAACACACACACAAAAAAACACCCCACAACCAAACACACACCCCAAACCCCCACCCCACCCCACCAAACAAACAACACAACACACCAAACAACACCCAAAAACACCCCACCACAAACACCCAAACAACCAACCAAACCACCAAACCCACCCCCCCAAACCCCAACCCCAACCCCAACCCCACCACAAAAAACACACCAACACACACCAACCCCCCCCAAACCACCCAAAACAAAACCAACACCCCACCACCCACAACCACCCACCACAACACCAAACAACAAAACACCAACCAACACCAAAACAACAAACAACCCACCAACAAAACCCCCCCCAAACACCCCACCAACACCCCAACAACACAACACACACAAACCCCCCCACCAAACCCCCAACCAAAACACACACCCCCACCACCCAAACCAACACCCAACACAACAACCCCCCCACCACCCCCACACACCAACCCCCACCAAACCAACAAACCCCCCCAAAAACAACACCAAACCAAAAACCCACAACACCCCACCCCCACACACACAAAAAAACACACCAACAC\n",
      "DP EDIT SCORE: 723    FR SCORE: 723.0    PARALLEL FR SCORE: 723.0\n",
      "DP EDIT TIME: 9.739879608154297    FR TIME: 14.439364433288574    PARALLEL FR TIME: 75.72866106033325\n"
     ]
    }
   ],
   "source": [
    "z = 2400\n",
    "print(\"Length of strings: \", z)\n",
    "str1 = createRandomString(z, alphabets)\n",
    "str2 = createRandomString(z, alphabets)\n",
    "\n",
    "start_time = time.time()\n",
    "score1, alignment = global_align(str2, str1, delta)\n",
    "end_time = time.time()\n",
    "time_taken_DP_Edit = end_time - start_time\n",
    "\n",
    "\n",
    "start_time = time.time()\n",
    "GroundTruthBlock, score2 = FR(str1, str2, t, allBlocks)\n",
    "end_time = time.time()\n",
    "time_taken_FR = end_time - start_time\n",
    "\n",
    "start_time = time.time()\n",
    "GroundTruthBlock, score3 = FR_Parallel(str1, str2, t, allBlocks, delay=0.09)\n",
    "end_time = time.time()\n",
    "time_taken_FR_Parallel = end_time - start_time\n",
    "\n",
    "# print(\"STR1\", str1)\n",
    "# print(\"STR2\", str2)\n",
    "# print(\"SCORE: \", score1, score2, score3)\n",
    "# print(\"TIME: \", time_taken_DP_Edit, time_taken_FR, time_taken_FR_Parallel)\n",
    "\n",
    "print(\"STR1:\", str1)\n",
    "print(\"STR2:\", str2)\n",
    "print(\"DP EDIT SCORE:\", score1, \"   FR SCORE:\", score2, \"   PARALLEL FR SCORE:\", score3)\n",
    "print(\"DP EDIT TIME:\", time_taken_DP_Edit, \"   FR TIME:\", time_taken_FR, \"   PARALLEL FR TIME:\", time_taken_FR_Parallel)"
   ]
  }
 ],
 "metadata": {
  "kernelspec": {
   "display_name": "Python 3",
   "language": "python",
   "name": "python3"
  },
  "language_info": {
   "codemirror_mode": {
    "name": "ipython",
    "version": 3
   },
   "file_extension": ".py",
   "mimetype": "text/x-python",
   "name": "python",
   "nbconvert_exporter": "python",
   "pygments_lexer": "ipython3",
   "version": "3.7.4"
  }
 },
 "nbformat": 4,
 "nbformat_minor": 2
}
